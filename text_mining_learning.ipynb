{
 "cells": [
  {
   "cell_type": "code",
   "execution_count": 4,
   "id": "00e9a93a",
   "metadata": {},
   "outputs": [
    {
     "name": "stdout",
     "output_type": "stream",
     "text": [
      "*** Introductory Examples for the NLTK Book ***\n",
      "Loading text1, ..., text9 and sent1, ..., sent9\n",
      "Type the name of the text or sentence to view it.\n",
      "Type: 'texts()' or 'sents()' to list the materials.\n",
      "text1: Moby Dick by Herman Melville 1851\n",
      "text2: Sense and Sensibility by Jane Austen 1811\n",
      "text3: The Book of Genesis\n",
      "text4: Inaugural Address Corpus\n",
      "text5: Chat Corpus\n",
      "text6: Monty Python and the Holy Grail\n",
      "text7: Wall Street Journal\n",
      "text8: Personals Corpus\n",
      "text9: The Man Who Was Thursday by G . K . Chesterton 1908\n"
     ]
    }
   ],
   "source": [
    "import nltk\n",
    "#https://www.nltk.org/api/nltk.html \n",
    "#https://www.nltk.org/book/\n",
    "from nltk.book import *\n"
   ]
  },
  {
   "cell_type": "code",
   "execution_count": 5,
   "id": "b5f6c72d",
   "metadata": {},
   "outputs": [
    {
     "name": "stdout",
     "output_type": "stream",
     "text": [
      "Displaying 11 of 11 matches:\n",
      "ong the former , one was of a most monstrous size . ... This came towards us , \n",
      "ON OF THE PSALMS . \" Touching that monstrous bulk of the whale or ork we have r\n",
      "ll over with a heathenish array of monstrous clubs and spears . Some were thick\n",
      "d as you gazed , and wondered what monstrous cannibal and savage could ever hav\n",
      "that has survived the flood ; most monstrous and most mountainous ! That Himmal\n",
      "they might scout at Moby Dick as a monstrous fable , or still worse and more de\n",
      "th of Radney .'\" CHAPTER 55 Of the Monstrous Pictures of Whales . I shall ere l\n",
      "ing Scenes . In connexion with the monstrous pictures of whales , I am strongly\n",
      "ere to enter upon those still more monstrous stories of them which are to be fo\n",
      "ght have been rummaged out of this monstrous cabinet there is no telling . But \n",
      "of Whale - Bones ; for Whales of a monstrous size are oftentimes cast up dead u\n"
     ]
    },
    {
     "data": {
      "image/png": "[encoded data removed]",
      "text/plain": [
       "<Figure size 432x288 with 1 Axes>"
      ]
     },
     "metadata": {
      "needs_background": "light"
     },
     "output_type": "display_data"
    },
    {
     "data": {
      "text/plain": [
       "[(',', 18713),\n",
       " ('the', 13721),\n",
       " ('.', 6862),\n",
       " ('of', 6536),\n",
       " ('and', 6024),\n",
       " ('a', 4569),\n",
       " ('to', 4542),\n",
       " (';', 4072),\n",
       " ('in', 3916),\n",
       " ('that', 2982),\n",
       " (\"'\", 2684),\n",
       " ('-', 2552),\n",
       " ('his', 2459),\n",
       " ('it', 2209),\n",
       " ('I', 2124),\n",
       " ('s', 1739),\n",
       " ('is', 1695),\n",
       " ('he', 1661),\n",
       " ('with', 1659),\n",
       " ('was', 1632),\n",
       " ('as', 1620),\n",
       " ('\"', 1478),\n",
       " ('all', 1462),\n",
       " ('for', 1414),\n",
       " ('this', 1280),\n",
       " ('!', 1269),\n",
       " ('at', 1231),\n",
       " ('by', 1137),\n",
       " ('but', 1113),\n",
       " ('not', 1103),\n",
       " ('--', 1070),\n",
       " ('him', 1058),\n",
       " ('from', 1052),\n",
       " ('be', 1030),\n",
       " ('on', 1005),\n",
       " ('so', 918),\n",
       " ('whale', 906),\n",
       " ('one', 889),\n",
       " ('you', 841),\n",
       " ('had', 767),\n",
       " ('have', 760),\n",
       " ('there', 715),\n",
       " ('But', 705),\n",
       " ('or', 697),\n",
       " ('were', 680),\n",
       " ('now', 646),\n",
       " ('which', 640),\n",
       " ('?', 637),\n",
       " ('me', 627),\n",
       " ('like', 624)]"
      ]
     },
     "execution_count": 5,
     "metadata": {},
     "output_type": "execute_result"
    }
   ],
   "source": [
    "text1.concordance(\"monstrous\")#show every occurrence of a given word, together with some context\n",
    "text4.dispersion_plot([\"citizens\", \"democracy\", \"freedom\", \"duties\", \"America\"])#show the relative frequency of words over the text\n",
    "FreqDist(text1).most_common(50)#frequency distribution tell us the frequency of each vocabulary item in the text"
   ]
  },
  {
   "cell_type": "markdown",
   "id": "9e8ebf88",
   "metadata": {},
   "source": [
    "## Text Corpus:\n",
    "- Basic Corpus Functionality defined in NLTK: https://www.nltk.org/book/ch02.html "
   ]
  },
  {
   "cell_type": "code",
   "execution_count": null,
   "id": "35487c61",
   "metadata": {},
   "outputs": [],
   "source": [
    "from nltk.corpus import PlaintextCorpusReader#your own collection of text files\n",
    "corpus_root = '/usr/share/dict'\n",
    "wordlists = PlaintextCorpusReader(corpus_root, '.*')\n",
    "#give a file_pattern that matches the files contained within its subfolders\n",
    "wordlists.fileids()"
   ]
  },
  {
   "cell_type": "markdown",
   "id": "f0381f99",
   "metadata": {},
   "source": [
    "## Tweepy\n",
    "- not free"
   ]
  },
  {
   "cell_type": "code",
   "execution_count": 27,
   "id": "cd60af91",
   "metadata": {},
   "outputs": [],
   "source": [
    "# import tweepy#pip install tweepy"
   ]
  },
  {
   "cell_type": "code",
   "execution_count": 28,
   "id": "51a14087",
   "metadata": {},
   "outputs": [],
   "source": [
    "# with open(\"/Users/jchen056/Data/api_key.txt\",'r') as token_file:\n",
    "#     contents = token_file.read().split('\\n')\n",
    "#     consumer_key = contents[0]\n",
    "#     consumer_secret = contents[1]\n",
    "#     access_token = contents[2]\n",
    "#     access_token_secret = contents[3]"
   ]
  },
  {
   "cell_type": "code",
   "execution_count": 29,
   "id": "a7106ac8",
   "metadata": {},
   "outputs": [],
   "source": [
    "# auth = tweepy.OAuthHandler(consumer_key, consumer_secret)\n",
    "# auth.set_access_token(access_token, access_token_secret)\n",
    "# api = tweepy.API(auth)\n",
    "# search_term = 'MTA'\n",
    "# #not free quit"
   ]
  },
  {
   "cell_type": "markdown",
   "id": "7773745e",
   "metadata": {},
   "source": [
    "## Yelp\n",
    "- only gives me three reviews"
   ]
  },
  {
   "cell_type": "code",
   "execution_count": 30,
   "id": "feaad1dc",
   "metadata": {},
   "outputs": [],
   "source": [
    "with open(\"/Users/jchen056/Data/api_key.txt\",'r') as f:\n",
    "    contents = f.read().split('\\n')\n",
    "    CLIENT_ID = contents[0]\n",
    "    API_KEY = contents[1]"
   ]
  },
  {
   "cell_type": "code",
   "execution_count": 32,
   "id": "db258074",
   "metadata": {},
   "outputs": [
    {
     "data": {
      "text/plain": [
       "'kst2gUpZFHAck_6KYmg2FJOGTozbWvR7xsCRZZr7ZeB-jyyrha3C6vH9L6qe-9KMIc3Y9-U9s-i66TqOvp6DgBZqfCQVEVBaG5LrjRBxu_R2AJ9xt4b9c7zXc8tgZXYx'"
      ]
     },
     "execution_count": 32,
     "metadata": {},
     "output_type": "execute_result"
    }
   ],
   "source": [
    "API_HOST = 'https://api.yelp.com' #The API url header\n",
    "SEARCH_PATH = '/v3/businesses/search' #The path for an API request to find businesses\n",
    "BUSINESS_PATH = '/v3/businesses/'  # The path to get data for a single business"
   ]
  },
  {
   "cell_type": "code",
   "execution_count": 41,
   "id": "43f6b198",
   "metadata": {},
   "outputs": [],
   "source": [
    "import requests\n",
    "business_id=\"4nX8HAGjmFN2bRr3I8hFug\"\n",
    "endpoint = f'https://api.yelp.com/v3/businesses/{business_id}/reviews'\n",
    "headers = {\n",
    "    \"accept\": \"application/json\",\n",
    "    'Authorization': f'Bearer {API_KEY}',\n",
    "}\n",
    "response = requests.request('GET', endpoint, headers=headers)\n"
   ]
  },
  {
   "cell_type": "code",
   "execution_count": 44,
   "id": "06fcb196",
   "metadata": {},
   "outputs": [
    {
     "name": "stdout",
     "output_type": "stream",
     "text": [
      "3\n"
     ]
    }
   ],
   "source": [
    "if response.status_code == 200:\n",
    "    reviews = response.json()['reviews']\n",
    "    print(len(reviews))"
   ]
  },
  {
   "cell_type": "code",
   "execution_count": 48,
   "id": "d7f46585",
   "metadata": {},
   "outputs": [
    {
     "data": {
      "text/plain": [
       "{'reviews': [{'id': 'Ze5JIQyOyuY4JbHs_zbz8Q',\n",
       "   'url': 'https://www.yelp.com/biz/metropolitan-transportation-authority-new-york-6?adjust_creative=ja1b35Qe3uQEs5zSYZFMhA&hrid=Ze5JIQyOyuY4JbHs_zbz8Q&utm_campaign=yelp_api_v3&utm_medium=api_v3_business_reviews&utm_source=ja1b35Qe3uQEs5zSYZFMhA',\n",
       "   'text': \"What do I know, I'm just a stupid tourist who comes into the city once a year and takes 3-4 subway rides each time.\\n\\nA lot cleaner than some of our Philly...\",\n",
       "   'rating': 4,\n",
       "   'time_created': '2023-11-03 09:59:01',\n",
       "   'user': {'id': 'B-s-8VUnuBjGTP3d01jsyw',\n",
       "    'profile_url': 'https://www.yelp.com/user_details?userid=B-s-8VUnuBjGTP3d01jsyw',\n",
       "    'image_url': 'https://s3-media4.fl.yelpcdn.com/photo/G9AigMH2tvwBMtkmFxWOkA/o.jpg',\n",
       "    'name': 'Allie A.'}},\n",
       "  {'id': 'LZYSsFdESrt3x_AmKuC1dg',\n",
       "   'url': 'https://www.yelp.com/biz/metropolitan-transportation-authority-new-york-6?adjust_creative=ja1b35Qe3uQEs5zSYZFMhA&hrid=LZYSsFdESrt3x_AmKuC1dg&utm_campaign=yelp_api_v3&utm_medium=api_v3_business_reviews&utm_source=ja1b35Qe3uQEs5zSYZFMhA',\n",
       "   'text': \"This Company is A Literally A Gangsters Mafia , an Organized Group of Criminals with uniforms !!! and I'll explain exactly why I say that . \\n(1) they are...\",\n",
       "   'rating': 1,\n",
       "   'time_created': '2023-08-23 13:31:03',\n",
       "   'user': {'id': 'CFl4xWkRFgnwUvlu7lK3dQ',\n",
       "    'profile_url': 'https://www.yelp.com/user_details?userid=CFl4xWkRFgnwUvlu7lK3dQ',\n",
       "    'image_url': 'https://s3-media4.fl.yelpcdn.com/photo/60oSkKpjAWnOlsR3OSqoUQ/o.jpg',\n",
       "    'name': 'Michael W.'}},\n",
       "  {'id': 'ojJLHRvlxa0tjkm5eNTrTg',\n",
       "   'url': 'https://www.yelp.com/biz/metropolitan-transportation-authority-new-york-6?adjust_creative=ja1b35Qe3uQEs5zSYZFMhA&hrid=ojJLHRvlxa0tjkm5eNTrTg&utm_campaign=yelp_api_v3&utm_medium=api_v3_business_reviews&utm_source=ja1b35Qe3uQEs5zSYZFMhA',\n",
       "   'text': \"I know this review will fall on deaf ears so consider this speaking my disgust into an empty, deep-pocketed void. I absolutely love when the machines don't...\",\n",
       "   'rating': 1,\n",
       "   'time_created': '2023-11-12 21:24:51',\n",
       "   'user': {'id': 'bazbncN877lJ0eB27vK0gw',\n",
       "    'profile_url': 'https://www.yelp.com/user_details?userid=bazbncN877lJ0eB27vK0gw',\n",
       "    'image_url': 'https://s3-media1.fl.yelpcdn.com/photo/zQkgyPRaEQBvvDWTRIzhXw/o.jpg',\n",
       "    'name': 'Ava W.'}}],\n",
       " 'total': 147,\n",
       " 'possible_languages': ['en', 'fr', 'de']}"
      ]
     },
     "execution_count": 48,
     "metadata": {},
     "output_type": "execute_result"
    }
   ],
   "source": [
    "response.json()"
   ]
  },
  {
   "cell_type": "markdown",
   "id": "e24982a3",
   "metadata": {},
   "source": [
    "## Selenium + BeautifulSoup"
   ]
  },
  {
   "cell_type": "code",
   "execution_count": 73,
   "id": "38cb0278",
   "metadata": {},
   "outputs": [],
   "source": [
    "import requests\n",
    "from bs4 import BeautifulSoup\n",
    "import re\n",
    "url=\"https://www.yelp.com/biz/metropolitan-transportation-authority-new-york-6?adjust_creative=ja1b35Qe3uQEs5zSYZFMhA&utm_campaign=yelp_api_v3&utm_medium=api_v3_business_reviews&utm_source=ja1b35Qe3uQEs5zSYZFMhA\"\n",
    "response = requests.get(url)\n",
    "results_page = BeautifulSoup(response.content,'lxml')\n",
    "\n",
    "reviews=[]"
   ]
  },
  {
   "cell_type": "code",
   "execution_count": 129,
   "id": "2ad53f4c",
   "metadata": {},
   "outputs": [],
   "source": [
    "# review_tags=results_page.find_all('p',class_=\"comment__09f24__D0cxf css-qgunke\")\n",
    "# for review in review_tags:\n",
    "#     reviews.append(review.find('span').text)\n",
    "# reviews"
   ]
  },
  {
   "cell_type": "code",
   "execution_count": 105,
   "id": "84e2b488",
   "metadata": {},
   "outputs": [],
   "source": [
    "# comment__09f24__D0cxf truncated__09f24__IiW9r css-qgunke\n",
    "# comment__09f24__D0cxf css-qgunke\n",
    "# comment__09f24__D0cxf css-qgunke\n",
    "from selenium.webdriver.common.by import By"
   ]
  },
  {
   "cell_type": "code",
   "execution_count": 112,
   "id": "4f4201e2",
   "metadata": {},
   "outputs": [],
   "source": [
    "from selenium import webdriver\n",
    "driver = webdriver.Firefox()\n",
    "url=\"https://www.yelp.com/biz/metropolitan-transportation-authority-new-york-6?adjust_creative=ja1b35Qe3uQEs5zSYZFMhA&utm_campaign=yelp_api_v3&utm_medium=api_v3_business_reviews&utm_source=ja1b35Qe3uQEs5zSYZFMhA\"\n",
    "driver.get(url)"
   ]
  },
  {
   "cell_type": "code",
   "execution_count": 118,
   "id": "93beb717",
   "metadata": {},
   "outputs": [],
   "source": [
    "reviews_all=[]\n",
    "while True:\n",
    "    soup = BeautifulSoup(driver.page_source, 'html.parser')\n",
    "    review_tags=soup.find_all('p',class_=\"comment__09f24__D0cxf css-qgunke\")\n",
    "    for review in review_tags:\n",
    "        reviews_all.append(review.find('span').text)\n",
    "    if soup.find(\"a\",class_=\"next-link navigation-button__09f24__m9qRz css-ahgoya\")==None:\n",
    "        break\n",
    "    driver.find_element(By.CLASS_NAME,\"next-link\").click()\n",
    "    "
   ]
  },
  {
   "cell_type": "code",
   "execution_count": 128,
   "id": "ba2e4231",
   "metadata": {},
   "outputs": [],
   "source": [
    "driver.quit()"
   ]
  },
  {
   "cell_type": "markdown",
   "id": "f72cc0ed",
   "metadata": {},
   "source": [
    "## Sentiment Analysis\n",
    "- NRC-emotion-lexicon-wordlevel-alphabetized for each review\n",
    "- positive and negative words\n",
    "- polarity analysis using textblob\n",
    "- visualizations"
   ]
  },
  {
   "cell_type": "code",
   "execution_count": 131,
   "id": "6fdc166f",
   "metadata": {},
   "outputs": [],
   "source": [
    "def get_nrc_data():\n",
    "    nrc = \"/Users/jchen056/Data/NRC-emotion-lexicon-wordlevel-alphabetized-v0.92.txt\"\n",
    "    count=0\n",
    "    emotion_dict=dict()\n",
    "    with open(nrc,'r') as f:\n",
    "        all_lines = list()\n",
    "        for line in f:\n",
    "            if count < 46:\n",
    "                count+=1\n",
    "                continue\n",
    "            line = line.strip().split('\\t')\n",
    "            if int(line[2]) == 1:\n",
    "                if emotion_dict.get(line[0]):\n",
    "                    emotion_dict[line[0]].append(line[1])\n",
    "                else:\n",
    "                    emotion_dict[line[0]] = [line[1]]\n",
    "    return emotion_dict"
   ]
  },
  {
   "cell_type": "code",
   "execution_count": 136,
   "id": "d9a31269",
   "metadata": {},
   "outputs": [
    {
     "data": {
      "text/plain": [
       "['anger', 'fear', 'negative']"
      ]
     },
     "execution_count": 136,
     "metadata": {},
     "output_type": "execute_result"
    }
   ],
   "source": [
    "emotion_dict=get_nrc_data()\n",
    "emotion_dict['brutal']"
   ]
  },
  {
   "cell_type": "code",
   "execution_count": 140,
   "id": "3ad2ca6d",
   "metadata": {},
   "outputs": [],
   "source": [
    "def emotion_analyzer(text,emotion_dict=emotion_dict):\n",
    "    #Set up the result dictionary\n",
    "    emotions = {x for y in emotion_dict.values() for x in y}#all the emotions in a set\n",
    "    emotion_count = dict()\n",
    "    for emotion in emotions:\n",
    "        emotion_count[emotion] = 0\n",
    "\n",
    "    #Analyze the text and normalize by total number of words\n",
    "    total_words = len(text.split())\n",
    "    for word in text.split():\n",
    "        if emotion_dict.get(word):\n",
    "            for emotion in emotion_dict.get(word):\n",
    "                emotion_count[emotion] += 1/total_words\n",
    "    return emotion_count"
   ]
  },
  {
   "cell_type": "code",
   "execution_count": 142,
   "id": "05040a97",
   "metadata": {},
   "outputs": [
    {
     "data": {
      "text/plain": [
       "{'joy': 0.017777777777777778,\n",
       " 'positive': 0.03666666666666667,\n",
       " 'anger': 0.015555555555555557,\n",
       " 'sadness': 0.0044444444444444444,\n",
       " 'negative': 0.012222222222222223,\n",
       " 'disgust': 0.006666666666666667,\n",
       " 'trust': 0.021111111111111112,\n",
       " 'surprise': 0.013333333333333334,\n",
       " 'fear': 0.0044444444444444444,\n",
       " 'anticipation': 0.02}"
      ]
     },
     "execution_count": 142,
     "metadata": {},
     "output_type": "execute_result"
    }
   ],
   "source": [
    "emotion_analyzer(reviews_all[1])"
   ]
  },
  {
   "cell_type": "code",
   "execution_count": 186,
   "id": "4d6a84c1",
   "metadata": {},
   "outputs": [
    {
     "data": {
      "text/plain": [
       "<AxesSubplot:xlabel='Emotion'>"
      ]
     },
     "execution_count": 186,
     "metadata": {},
     "output_type": "execute_result"
    },
    {
     "data": {
      "image/png": "[encoded data removed]",
      "text/plain": [
       "<Figure size 432x288 with 1 Axes>"
      ]
     },
     "metadata": {
      "needs_background": "light"
     },
     "output_type": "display_data"
    }
   ],
   "source": [
    "reviews_all_combined=\"\"\n",
    "for review in reviews_all:\n",
    "    reviews_all_combined+=review\n",
    "\n",
    "pd.DataFrame(\n",
    "    list(emotion_analyzer(reviews_all_combined).items()),\n",
    "    columns=['Emotion','Score']\n",
    ").plot(x=\"Emotion\",y='Score',kind='bar')"
   ]
  },
  {
   "cell_type": "code",
   "execution_count": 159,
   "id": "85ffdc9b",
   "metadata": {},
   "outputs": [],
   "source": [
    "#Simple sentiment analysis\n",
    "def get_pos_neg_words():\n",
    "    def get_words(url):\n",
    "        import requests\n",
    "        words = requests.get(url).content.decode('latin-1')\n",
    "        word_list = words.split('\\n')\n",
    "        index = 0\n",
    "        while index < len(word_list):\n",
    "            word = word_list[index]\n",
    "            if ';' in word or not word:\n",
    "                word_list.pop(index)\n",
    "            else:\n",
    "                index+=1\n",
    "        return word_list\n",
    "    #Get lists of positive and negative words\n",
    "    p_url = 'http://ptrckprry.com/course/ssd/data/positive-words.txt'\n",
    "    n_url = 'http://ptrckprry.com/course/ssd/data/negative-words.txt'\n",
    "    positive_words = get_words(p_url)\n",
    "    negative_words = get_words(n_url)\n",
    "    return positive_words,negative_words\n",
    "\n",
    "positive_words,negative_words = get_pos_neg_words()"
   ]
  },
  {
   "cell_type": "code",
   "execution_count": 188,
   "id": "0eead75c",
   "metadata": {},
   "outputs": [
    {
     "name": "stdout",
     "output_type": "stream",
     "text": [
      "MTA 2.52%\t 3.35%\t -0.84%\n"
     ]
    }
   ],
   "source": [
    "from nltk import word_tokenize\n",
    "cpos = cneg = lpos = lneg = 0\n",
    "for word in word_tokenize(reviews_all_combined):\n",
    "    if word in positive_words:\n",
    "        cpos+=1\n",
    "    if word in negative_words:\n",
    "        cneg+=1\n",
    "\n",
    "print(\"MTA {0:1.2f}%\\t {1:1.2f}%\\t {2:1.2f}%\".format(cpos/len(word_tokenize(reviews_all_combined))*100,\n",
    "                                                        cneg/len(word_tokenize(reviews_all_combined))*100,\n",
    "                                                        (cpos-cneg)/len(word_tokenize(reviews_all_combined))*100))"
   ]
  },
  {
   "cell_type": "code",
   "execution_count": 157,
   "id": "130afe83",
   "metadata": {},
   "outputs": [],
   "source": [
    "#using textblob\n",
    "from nltk.tokenize import word_tokenize\n",
    "from nltk import pos_tag\n",
    "# nltk.download('stopwords')\n",
    "from nltk.corpus import stopwords\n",
    "# nltk.download('wordnet')\n",
    "from nltk.corpus import wordnet\n",
    "from nltk.stem import PorterStemmer\n",
    "from textblob import TextBlob\n",
    "import matplotlib.pyplot as plt"
   ]
  },
  {
   "cell_type": "code",
   "execution_count": 146,
   "id": "c487acca",
   "metadata": {},
   "outputs": [],
   "source": [
    "# remove punctuation and numbers, lower case the text\n",
    "def clean(text):\n",
    "    # replace any non-letters with a space\n",
    "    text = re.sub('[^A-Za-z]+', ' ', text)\n",
    "    # lower case the text\n",
    "    text = text.lower()\n",
    "    return text"
   ]
  },
  {
   "cell_type": "code",
   "execution_count": 152,
   "id": "2f22538d",
   "metadata": {},
   "outputs": [
    {
     "data": {
      "text/html": [
       "<div>\n",
       "<style scoped>\n",
       "    .dataframe tbody tr th:only-of-type {\n",
       "        vertical-align: middle;\n",
       "    }\n",
       "\n",
       "    .dataframe tbody tr th {\n",
       "        vertical-align: top;\n",
       "    }\n",
       "\n",
       "    .dataframe thead th {\n",
       "        text-align: right;\n",
       "    }\n",
       "</style>\n",
       "<table border=\"1\" class=\"dataframe\">\n",
       "  <thead>\n",
       "    <tr style=\"text-align: right;\">\n",
       "      <th></th>\n",
       "      <th>Reviews</th>\n",
       "      <th>Cleaned Reviews</th>\n",
       "    </tr>\n",
       "  </thead>\n",
       "  <tbody>\n",
       "    <tr>\n",
       "      <th>0</th>\n",
       "      <td>What do I know, I'm just a stupid tourist who ...</td>\n",
       "      <td>what do i know i m just a stupid tourist who c...</td>\n",
       "    </tr>\n",
       "    <tr>\n",
       "      <th>1</th>\n",
       "      <td>This Company is A Literally A Gangsters Mafia ...</td>\n",
       "      <td>this company is a literally a gangsters mafia ...</td>\n",
       "    </tr>\n",
       "  </tbody>\n",
       "</table>\n",
       "</div>"
      ],
      "text/plain": [
       "                                             Reviews  \\\n",
       "0  What do I know, I'm just a stupid tourist who ...   \n",
       "1  This Company is A Literally A Gangsters Mafia ...   \n",
       "\n",
       "                                     Cleaned Reviews  \n",
       "0  what do i know i m just a stupid tourist who c...  \n",
       "1  this company is a literally a gangsters mafia ...  "
      ]
     },
     "execution_count": 152,
     "metadata": {},
     "output_type": "execute_result"
    }
   ],
   "source": [
    "import pandas as pd\n",
    "reviews_sample=pd.DataFrame(reviews_all,columns=['Reviews'])\n",
    "\n",
    "# remove punctuation and numbers, lower case the text\n",
    "def clean(text):\n",
    "    # replace any non-letters with a space\n",
    "    text = re.sub('[^A-Za-z]+', ' ', text)\n",
    "    # lower case the text\n",
    "    text = text.lower()\n",
    "    return text\n",
    "\n",
    "# apply the function clean to each review\n",
    "reviews_sample['Cleaned Reviews'] = reviews_sample['Reviews'].apply(clean)\n",
    "reviews_sample.head(2)"
   ]
  },
  {
   "cell_type": "code",
   "execution_count": 153,
   "id": "65f21a43",
   "metadata": {},
   "outputs": [
    {
     "data": {
      "text/html": [
       "<div>\n",
       "<style scoped>\n",
       "    .dataframe tbody tr th:only-of-type {\n",
       "        vertical-align: middle;\n",
       "    }\n",
       "\n",
       "    .dataframe tbody tr th {\n",
       "        vertical-align: top;\n",
       "    }\n",
       "\n",
       "    .dataframe thead th {\n",
       "        text-align: right;\n",
       "    }\n",
       "</style>\n",
       "<table border=\"1\" class=\"dataframe\">\n",
       "  <thead>\n",
       "    <tr style=\"text-align: right;\">\n",
       "      <th></th>\n",
       "      <th>Reviews</th>\n",
       "      <th>Cleaned Reviews</th>\n",
       "      <th>Final Reviews</th>\n",
       "    </tr>\n",
       "  </thead>\n",
       "  <tbody>\n",
       "    <tr>\n",
       "      <th>0</th>\n",
       "      <td>What do I know, I'm just a stupid tourist who ...</td>\n",
       "      <td>what do i know i m just a stupid tourist who c...</td>\n",
       "      <td>know stupid tourist come citi year take subwa...</td>\n",
       "    </tr>\n",
       "    <tr>\n",
       "      <th>1</th>\n",
       "      <td>This Company is A Literally A Gangsters Mafia ...</td>\n",
       "      <td>this company is a literally a gangsters mafia ...</td>\n",
       "      <td>compani liter gangster mafia organ group crim...</td>\n",
       "    </tr>\n",
       "  </tbody>\n",
       "</table>\n",
       "</div>"
      ],
      "text/plain": [
       "                                             Reviews  \\\n",
       "0  What do I know, I'm just a stupid tourist who ...   \n",
       "1  This Company is A Literally A Gangsters Mafia ...   \n",
       "\n",
       "                                     Cleaned Reviews  \\\n",
       "0  what do i know i m just a stupid tourist who c...   \n",
       "1  this company is a literally a gangsters mafia ...   \n",
       "\n",
       "                                       Final Reviews  \n",
       "0   know stupid tourist come citi year take subwa...  \n",
       "1   compani liter gangster mafia organ group crim...  "
      ]
     },
     "execution_count": 153,
     "metadata": {},
     "output_type": "execute_result"
    }
   ],
   "source": [
    "# tokenize, remove stop words, stem\n",
    "# we use the Porter stemmer, a process for removing suffixes from words in English\n",
    "ps = PorterStemmer()\n",
    "\n",
    "def token_stop_stem(text):\n",
    "    tokens = word_tokenize(text) # tokenize the text\n",
    "    newlist = []\n",
    "    new_review = \"\"\n",
    "    for word in tokens:\n",
    "        if word not in set(stopwords.words('english')): # remove stop words\n",
    "            word_stem = ps.stem(word) # stem each word\n",
    "            newlist.append(word_stem)\n",
    "            new_review = new_review + \" \" + word_stem\n",
    "    return new_review\n",
    "\n",
    "reviews_sample['Final Reviews'] = reviews_sample['Cleaned Reviews'].apply(token_stop_stem)\n",
    "reviews_sample.head(2)"
   ]
  },
  {
   "cell_type": "code",
   "execution_count": 154,
   "id": "05473fb0",
   "metadata": {},
   "outputs": [],
   "source": [
    "# we will score the polarity of each review\n",
    "# polarity ranges from -1 (negative) to 1 (positive)\n",
    "# under the hood, TextBlob uses a lexicon-based method for scoring\n",
    "# for details, see https://github.com/sloria/TextBlob/blob/dev/textblob/_text.py\n",
    "def getPolarityScore(review):\n",
    "    return TextBlob(review).sentiment.polarity\n",
    "\n",
    "# function to analyze the reviews\n",
    "def getPolarity(score):\n",
    "    if score < 0:\n",
    "        return 'Negative'\n",
    "    elif score == 0:\n",
    "        return 'Neutral'\n",
    "    else:\n",
    "        return 'Positive'"
   ]
  },
  {
   "cell_type": "code",
   "execution_count": 155,
   "id": "d3f29b76",
   "metadata": {},
   "outputs": [
    {
     "data": {
      "text/html": [
       "<div>\n",
       "<style scoped>\n",
       "    .dataframe tbody tr th:only-of-type {\n",
       "        vertical-align: middle;\n",
       "    }\n",
       "\n",
       "    .dataframe tbody tr th {\n",
       "        vertical-align: top;\n",
       "    }\n",
       "\n",
       "    .dataframe thead th {\n",
       "        text-align: right;\n",
       "    }\n",
       "</style>\n",
       "<table border=\"1\" class=\"dataframe\">\n",
       "  <thead>\n",
       "    <tr style=\"text-align: right;\">\n",
       "      <th></th>\n",
       "      <th>Reviews</th>\n",
       "      <th>Cleaned Reviews</th>\n",
       "      <th>Final Reviews</th>\n",
       "      <th>Score</th>\n",
       "      <th>Polarity</th>\n",
       "    </tr>\n",
       "  </thead>\n",
       "  <tbody>\n",
       "    <tr>\n",
       "      <th>0</th>\n",
       "      <td>What do I know, I'm just a stupid tourist who ...</td>\n",
       "      <td>what do i know i m just a stupid tourist who c...</td>\n",
       "      <td>know stupid tourist come citi year take subwa...</td>\n",
       "      <td>0.066667</td>\n",
       "      <td>Positive</td>\n",
       "    </tr>\n",
       "    <tr>\n",
       "      <th>1</th>\n",
       "      <td>This Company is A Literally A Gangsters Mafia ...</td>\n",
       "      <td>this company is a literally a gangsters mafia ...</td>\n",
       "      <td>compani liter gangster mafia organ group crim...</td>\n",
       "      <td>-0.008251</td>\n",
       "      <td>Negative</td>\n",
       "    </tr>\n",
       "    <tr>\n",
       "      <th>2</th>\n",
       "      <td>I know this review will fall on deaf ears so c...</td>\n",
       "      <td>i know this review will fall on deaf ears so c...</td>\n",
       "      <td>know review fall deaf ear consid speak disgus...</td>\n",
       "      <td>-0.107242</td>\n",
       "      <td>Negative</td>\n",
       "    </tr>\n",
       "    <tr>\n",
       "      <th>3</th>\n",
       "      <td>Zero stars if I could. Im making it my mission...</td>\n",
       "      <td>zero stars if i could im making it my mission ...</td>\n",
       "      <td>zero star could im make mission mta lose much...</td>\n",
       "      <td>0.200000</td>\n",
       "      <td>Positive</td>\n",
       "    </tr>\n",
       "    <tr>\n",
       "      <th>4</th>\n",
       "      <td>Current NYC mayor Eric Adams seems to have eve...</td>\n",
       "      <td>current nyc mayor eric adams seems to have eve...</td>\n",
       "      <td>current nyc mayor eric adam seem even less co...</td>\n",
       "      <td>0.033929</td>\n",
       "      <td>Positive</td>\n",
       "    </tr>\n",
       "  </tbody>\n",
       "</table>\n",
       "</div>"
      ],
      "text/plain": [
       "                                             Reviews  \\\n",
       "0  What do I know, I'm just a stupid tourist who ...   \n",
       "1  This Company is A Literally A Gangsters Mafia ...   \n",
       "2  I know this review will fall on deaf ears so c...   \n",
       "3  Zero stars if I could. Im making it my mission...   \n",
       "4  Current NYC mayor Eric Adams seems to have eve...   \n",
       "\n",
       "                                     Cleaned Reviews  \\\n",
       "0  what do i know i m just a stupid tourist who c...   \n",
       "1  this company is a literally a gangsters mafia ...   \n",
       "2  i know this review will fall on deaf ears so c...   \n",
       "3  zero stars if i could im making it my mission ...   \n",
       "4  current nyc mayor eric adams seems to have eve...   \n",
       "\n",
       "                                       Final Reviews     Score  Polarity  \n",
       "0   know stupid tourist come citi year take subwa...  0.066667  Positive  \n",
       "1   compani liter gangster mafia organ group crim... -0.008251  Negative  \n",
       "2   know review fall deaf ear consid speak disgus... -0.107242  Negative  \n",
       "3   zero star could im make mission mta lose much...  0.200000  Positive  \n",
       "4   current nyc mayor eric adam seem even less co...  0.033929  Positive  "
      ]
     },
     "execution_count": 155,
     "metadata": {},
     "output_type": "execute_result"
    }
   ],
   "source": [
    "reviews_sample['Score'] = reviews_sample['Final Reviews'].apply(getPolarityScore)\n",
    "reviews_sample['Polarity'] = reviews_sample['Score'].apply(getPolarity)\n",
    "reviews_sample.head()"
   ]
  },
  {
   "cell_type": "code",
   "execution_count": 158,
   "id": "ed6b7a8c",
   "metadata": {},
   "outputs": [
    {
     "data": {
      "image/png": "[encoded data removed]",
      "text/plain": [
       "<Figure size 432x288 with 1 Axes>"
      ]
     },
     "metadata": {
      "needs_background": "light"
     },
     "output_type": "display_data"
    }
   ],
   "source": [
    "# plot the distribution of polarities\n",
    "plt.hist(reviews_sample['Polarity'])\n",
    "plt.xlabel('Polarity')\n",
    "plt.ylabel('Count')\n",
    "plt.show()"
   ]
  },
  {
   "cell_type": "code",
   "execution_count": 215,
   "id": "ff310b83",
   "metadata": {},
   "outputs": [],
   "source": [
    "# review_sample[reviews_sample['Polarity']=='Neutral']\n"
   ]
  },
  {
   "cell_type": "code",
   "execution_count": 189,
   "id": "242bbc98",
   "metadata": {},
   "outputs": [
    {
     "data": {
      "text/html": [
       "\n",
       "    <div class=\"bk-root\">\n",
       "        <a href=\"https://bokeh.org\" target=\"_blank\" class=\"bk-logo bk-logo-small bk-logo-notebook\"></a>\n",
       "        <span id=\"1001\">Loading BokehJS ...</span>\n",
       "    </div>"
      ]
     },
     "metadata": {},
     "output_type": "display_data"
    },
    {
     "data": {
      "application/javascript": [
       "\n",
       "(function(root) {\n",
       "  function now() {\n",
       "    return new Date();\n",
       "  }\n",
       "\n",
       "  const force = true;\n",
       "\n",
       "  if (typeof root._bokeh_onload_callbacks === \"undefined\" || force === true) {\n",
       "    root._bokeh_onload_callbacks = [];\n",
       "    root._bokeh_is_loading = undefined;\n",
       "  }\n",
       "\n",
       "  const JS_MIME_TYPE = 'application/javascript';\n",
       "  const HTML_MIME_TYPE = 'text/html';\n",
       "  const EXEC_MIME_TYPE = 'application/vnd.bokehjs_exec.v0+json';\n",
       "  const CLASS_NAME = 'output_bokeh rendered_html';\n",
       "\n",
       "  /**\n",
       "   * Render data to the DOM node\n",
       "   */\n",
       "  function render(props, node) {\n",
       "    const script = document.createElement(\"script\");\n",
       "    node.appendChild(script);\n",
       "  }\n",
       "\n",
       "  /**\n",
       "   * Handle when an output is cleared or removed\n",
       "   */\n",
       "  function handleClearOutput(event, handle) {\n",
       "    const cell = handle.cell;\n",
       "\n",
       "    const id = cell.output_area._bokeh_element_id;\n",
       "    const server_id = cell.output_area._bokeh_server_id;\n",
       "    // Clean up Bokeh references\n",
       "    if (id != null && id in Bokeh.index) {\n",
       "      Bokeh.index[id].model.document.clear();\n",
       "      delete Bokeh.index[id];\n",
       "    }\n",
       "\n",
       "    if (server_id !== undefined) {\n",
       "      // Clean up Bokeh references\n",
       "      const cmd_clean = \"from bokeh.io.state import curstate; print(curstate().uuid_to_server['\" + server_id + \"'].get_sessions()[0].document.roots[0]._id)\";\n",
       "      cell.notebook.kernel.execute(cmd_clean, {\n",
       "        iopub: {\n",
       "          output: function(msg) {\n",
       "            const id = msg.content.text.trim();\n",
       "            if (id in Bokeh.index) {\n",
       "              Bokeh.index[id].model.document.clear();\n",
       "              delete Bokeh.index[id];\n",
       "            }\n",
       "          }\n",
       "        }\n",
       "      });\n",
       "      // Destroy server and session\n",
       "      const cmd_destroy = \"import bokeh.io.notebook as ion; ion.destroy_server('\" + server_id + \"')\";\n",
       "      cell.notebook.kernel.execute(cmd_destroy);\n",
       "    }\n",
       "  }\n",
       "\n",
       "  /**\n",
       "   * Handle when a new output is added\n",
       "   */\n",
       "  function handleAddOutput(event, handle) {\n",
       "    const output_area = handle.output_area;\n",
       "    const output = handle.output;\n",
       "\n",
       "    // limit handleAddOutput to display_data with EXEC_MIME_TYPE content only\n",
       "    if ((output.output_type != \"display_data\") || (!Object.prototype.hasOwnProperty.call(output.data, EXEC_MIME_TYPE))) {\n",
       "      return\n",
       "    }\n",
       "\n",
       "    const toinsert = output_area.element.find(\".\" + CLASS_NAME.split(' ')[0]);\n",
       "\n",
       "    if (output.metadata[EXEC_MIME_TYPE][\"id\"] !== undefined) {\n",
       "      toinsert[toinsert.length - 1].firstChild.textContent = output.data[JS_MIME_TYPE];\n",
       "      // store reference to embed id on output_area\n",
       "      output_area._bokeh_element_id = output.metadata[EXEC_MIME_TYPE][\"id\"];\n",
       "    }\n",
       "    if (output.metadata[EXEC_MIME_TYPE][\"server_id\"] !== undefined) {\n",
       "      const bk_div = document.createElement(\"div\");\n",
       "      bk_div.innerHTML = output.data[HTML_MIME_TYPE];\n",
       "      const script_attrs = bk_div.children[0].attributes;\n",
       "      for (let i = 0; i < script_attrs.length; i++) {\n",
       "        toinsert[toinsert.length - 1].firstChild.setAttribute(script_attrs[i].name, script_attrs[i].value);\n",
       "        toinsert[toinsert.length - 1].firstChild.textContent = bk_div.children[0].textContent\n",
       "      }\n",
       "      // store reference to server id on output_area\n",
       "      output_area._bokeh_server_id = output.metadata[EXEC_MIME_TYPE][\"server_id\"];\n",
       "    }\n",
       "  }\n",
       "\n",
       "  function register_renderer(events, OutputArea) {\n",
       "\n",
       "    function append_mime(data, metadata, element) {\n",
       "      // create a DOM node to render to\n",
       "      const toinsert = this.create_output_subarea(\n",
       "        metadata,\n",
       "        CLASS_NAME,\n",
       "        EXEC_MIME_TYPE\n",
       "      );\n",
       "      this.keyboard_manager.register_events(toinsert);\n",
       "      // Render to node\n",
       "      const props = {data: data, metadata: metadata[EXEC_MIME_TYPE]};\n",
       "      render(props, toinsert[toinsert.length - 1]);\n",
       "      element.append(toinsert);\n",
       "      return toinsert\n",
       "    }\n",
       "\n",
       "    /* Handle when an output is cleared or removed */\n",
       "    events.on('clear_output.CodeCell', handleClearOutput);\n",
       "    events.on('delete.Cell', handleClearOutput);\n",
       "\n",
       "    /* Handle when a new output is added */\n",
       "    events.on('output_added.OutputArea', handleAddOutput);\n",
       "\n",
       "    /**\n",
       "     * Register the mime type and append_mime function with output_area\n",
       "     */\n",
       "    OutputArea.prototype.register_mime_type(EXEC_MIME_TYPE, append_mime, {\n",
       "      /* Is output safe? */\n",
       "      safe: true,\n",
       "      /* Index of renderer in `output_area.display_order` */\n",
       "      index: 0\n",
       "    });\n",
       "  }\n",
       "\n",
       "  // register the mime type if in Jupyter Notebook environment and previously unregistered\n",
       "  if (root.Jupyter !== undefined) {\n",
       "    const events = require('base/js/events');\n",
       "    const OutputArea = require('notebook/js/outputarea').OutputArea;\n",
       "\n",
       "    if (OutputArea.prototype.mime_types().indexOf(EXEC_MIME_TYPE) == -1) {\n",
       "      register_renderer(events, OutputArea);\n",
       "    }\n",
       "  }\n",
       "\n",
       "  \n",
       "  if (typeof (root._bokeh_timeout) === \"undefined\" || force === true) {\n",
       "    root._bokeh_timeout = Date.now() + 5000;\n",
       "    root._bokeh_failed_load = false;\n",
       "  }\n",
       "\n",
       "  const NB_LOAD_WARNING = {'data': {'text/html':\n",
       "     \"<div style='background-color: #fdd'>\\n\"+\n",
       "     \"<p>\\n\"+\n",
       "     \"BokehJS does not appear to have successfully loaded. If loading BokehJS from CDN, this \\n\"+\n",
       "     \"may be due to a slow or bad network connection. Possible fixes:\\n\"+\n",
       "     \"</p>\\n\"+\n",
       "     \"<ul>\\n\"+\n",
       "     \"<li>re-rerun `output_notebook()` to attempt to load from CDN again, or</li>\\n\"+\n",
       "     \"<li>use INLINE resources instead, as so:</li>\\n\"+\n",
       "     \"</ul>\\n\"+\n",
       "     \"<code>\\n\"+\n",
       "     \"from bokeh.resources import INLINE\\n\"+\n",
       "     \"output_notebook(resources=INLINE)\\n\"+\n",
       "     \"</code>\\n\"+\n",
       "     \"</div>\"}};\n",
       "\n",
       "  function display_loaded() {\n",
       "    const el = document.getElementById(\"1001\");\n",
       "    if (el != null) {\n",
       "      el.textContent = \"BokehJS is loading...\";\n",
       "    }\n",
       "    if (root.Bokeh !== undefined) {\n",
       "      if (el != null) {\n",
       "        el.textContent = \"BokehJS \" + root.Bokeh.version + \" successfully loaded.\";\n",
       "      }\n",
       "    } else if (Date.now() < root._bokeh_timeout) {\n",
       "      setTimeout(display_loaded, 100)\n",
       "    }\n",
       "  }\n",
       "\n",
       "\n",
       "  function run_callbacks() {\n",
       "    try {\n",
       "      root._bokeh_onload_callbacks.forEach(function(callback) {\n",
       "        if (callback != null)\n",
       "          callback();\n",
       "      });\n",
       "    } finally {\n",
       "      delete root._bokeh_onload_callbacks\n",
       "    }\n",
       "    console.debug(\"Bokeh: all callbacks have finished\");\n",
       "  }\n",
       "\n",
       "  function load_libs(css_urls, js_urls, callback) {\n",
       "    if (css_urls == null) css_urls = [];\n",
       "    if (js_urls == null) js_urls = [];\n",
       "\n",
       "    root._bokeh_onload_callbacks.push(callback);\n",
       "    if (root._bokeh_is_loading > 0) {\n",
       "      console.debug(\"Bokeh: BokehJS is being loaded, scheduling callback at\", now());\n",
       "      return null;\n",
       "    }\n",
       "    if (js_urls == null || js_urls.length === 0) {\n",
       "      run_callbacks();\n",
       "      return null;\n",
       "    }\n",
       "    console.debug(\"Bokeh: BokehJS not loaded, scheduling load and callback at\", now());\n",
       "    root._bokeh_is_loading = css_urls.length + js_urls.length;\n",
       "\n",
       "    function on_load() {\n",
       "      root._bokeh_is_loading--;\n",
       "      if (root._bokeh_is_loading === 0) {\n",
       "        console.debug(\"Bokeh: all BokehJS libraries/stylesheets loaded\");\n",
       "        run_callbacks()\n",
       "      }\n",
       "    }\n",
       "\n",
       "    function on_error(url) {\n",
       "      console.error(\"failed to load \" + url);\n",
       "    }\n",
       "\n",
       "    for (let i = 0; i < css_urls.length; i++) {\n",
       "      const url = css_urls[i];\n",
       "      const element = document.createElement(\"link\");\n",
       "      element.onload = on_load;\n",
       "      element.onerror = on_error.bind(null, url);\n",
       "      element.rel = \"stylesheet\";\n",
       "      element.type = \"text/css\";\n",
       "      element.href = url;\n",
       "      console.debug(\"Bokeh: injecting link tag for BokehJS stylesheet: \", url);\n",
       "      document.body.appendChild(element);\n",
       "    }\n",
       "\n",
       "    for (let i = 0; i < js_urls.length; i++) {\n",
       "      const url = js_urls[i];\n",
       "      const element = document.createElement('script');\n",
       "      element.onload = on_load;\n",
       "      element.onerror = on_error.bind(null, url);\n",
       "      element.async = false;\n",
       "      element.src = url;\n",
       "      console.debug(\"Bokeh: injecting script tag for BokehJS library: \", url);\n",
       "      document.head.appendChild(element);\n",
       "    }\n",
       "  };\n",
       "\n",
       "  function inject_raw_css(css) {\n",
       "    const element = document.createElement(\"style\");\n",
       "    element.appendChild(document.createTextNode(css));\n",
       "    document.body.appendChild(element);\n",
       "  }\n",
       "\n",
       "  \n",
       "  const js_urls = [\"https://cdn.bokeh.org/bokeh/release/bokeh-2.4.2.min.js\", \"https://cdn.bokeh.org/bokeh/release/bokeh-gl-2.4.2.min.js\", \"https://cdn.bokeh.org/bokeh/release/bokeh-widgets-2.4.2.min.js\", \"https://cdn.bokeh.org/bokeh/release/bokeh-tables-2.4.2.min.js\", \"https://cdn.bokeh.org/bokeh/release/bokeh-mathjax-2.4.2.min.js\"];\n",
       "  const css_urls = [];\n",
       "  \n",
       "\n",
       "  const inline_js = [\n",
       "    function(Bokeh) {\n",
       "      Bokeh.set_log_level(\"info\");\n",
       "    },\n",
       "    function(Bokeh) {\n",
       "    \n",
       "    \n",
       "    }\n",
       "  ];\n",
       "\n",
       "  function run_inline_js() {\n",
       "    \n",
       "    if (root.Bokeh !== undefined || force === true) {\n",
       "      \n",
       "    for (let i = 0; i < inline_js.length; i++) {\n",
       "      inline_js[i].call(root, root.Bokeh);\n",
       "    }\n",
       "    if (force === true) {\n",
       "        display_loaded();\n",
       "      }} else if (Date.now() < root._bokeh_timeout) {\n",
       "      setTimeout(run_inline_js, 100);\n",
       "    } else if (!root._bokeh_failed_load) {\n",
       "      console.log(\"Bokeh: BokehJS failed to load within specified timeout.\");\n",
       "      root._bokeh_failed_load = true;\n",
       "    } else if (force !== true) {\n",
       "      const cell = $(document.getElementById(\"1001\")).parents('.cell').data().cell;\n",
       "      cell.output_area.append_execute_result(NB_LOAD_WARNING)\n",
       "    }\n",
       "\n",
       "  }\n",
       "\n",
       "  if (root._bokeh_is_loading === 0) {\n",
       "    console.debug(\"Bokeh: BokehJS loaded, going straight to plotting\");\n",
       "    run_inline_js();\n",
       "  } else {\n",
       "    load_libs(css_urls, js_urls, function() {\n",
       "      console.debug(\"Bokeh: BokehJS plotting callback run at\", now());\n",
       "      run_inline_js();\n",
       "    });\n",
       "  }\n",
       "}(window));"
      ],
      "application/vnd.bokehjs_load.v0+json": "\n(function(root) {\n  function now() {\n    return new Date();\n  }\n\n  const force = true;\n\n  if (typeof root._bokeh_onload_callbacks === \"undefined\" || force === true) {\n    root._bokeh_onload_callbacks = [];\n    root._bokeh_is_loading = undefined;\n  }\n\n  \n\n  \n  if (typeof (root._bokeh_timeout) === \"undefined\" || force === true) {\n    root._bokeh_timeout = Date.now() + 5000;\n    root._bokeh_failed_load = false;\n  }\n\n  const NB_LOAD_WARNING = {'data': {'text/html':\n     \"<div style='background-color: #fdd'>\\n\"+\n     \"<p>\\n\"+\n     \"BokehJS does not appear to have successfully loaded. If loading BokehJS from CDN, this \\n\"+\n     \"may be due to a slow or bad network connection. Possible fixes:\\n\"+\n     \"</p>\\n\"+\n     \"<ul>\\n\"+\n     \"<li>re-rerun `output_notebook()` to attempt to load from CDN again, or</li>\\n\"+\n     \"<li>use INLINE resources instead, as so:</li>\\n\"+\n     \"</ul>\\n\"+\n     \"<code>\\n\"+\n     \"from bokeh.resources import INLINE\\n\"+\n     \"output_notebook(resources=INLINE)\\n\"+\n     \"</code>\\n\"+\n     \"</div>\"}};\n\n  function display_loaded() {\n    const el = document.getElementById(\"1001\");\n    if (el != null) {\n      el.textContent = \"BokehJS is loading...\";\n    }\n    if (root.Bokeh !== undefined) {\n      if (el != null) {\n        el.textContent = \"BokehJS \" + root.Bokeh.version + \" successfully loaded.\";\n      }\n    } else if (Date.now() < root._bokeh_timeout) {\n      setTimeout(display_loaded, 100)\n    }\n  }\n\n\n  function run_callbacks() {\n    try {\n      root._bokeh_onload_callbacks.forEach(function(callback) {\n        if (callback != null)\n          callback();\n      });\n    } finally {\n      delete root._bokeh_onload_callbacks\n    }\n    console.debug(\"Bokeh: all callbacks have finished\");\n  }\n\n  function load_libs(css_urls, js_urls, callback) {\n    if (css_urls == null) css_urls = [];\n    if (js_urls == null) js_urls = [];\n\n    root._bokeh_onload_callbacks.push(callback);\n    if (root._bokeh_is_loading > 0) {\n      console.debug(\"Bokeh: BokehJS is being loaded, scheduling callback at\", now());\n      return null;\n    }\n    if (js_urls == null || js_urls.length === 0) {\n      run_callbacks();\n      return null;\n    }\n    console.debug(\"Bokeh: BokehJS not loaded, scheduling load and callback at\", now());\n    root._bokeh_is_loading = css_urls.length + js_urls.length;\n\n    function on_load() {\n      root._bokeh_is_loading--;\n      if (root._bokeh_is_loading === 0) {\n        console.debug(\"Bokeh: all BokehJS libraries/stylesheets loaded\");\n        run_callbacks()\n      }\n    }\n\n    function on_error(url) {\n      console.error(\"failed to load \" + url);\n    }\n\n    for (let i = 0; i < css_urls.length; i++) {\n      const url = css_urls[i];\n      const element = document.createElement(\"link\");\n      element.onload = on_load;\n      element.onerror = on_error.bind(null, url);\n      element.rel = \"stylesheet\";\n      element.type = \"text/css\";\n      element.href = url;\n      console.debug(\"Bokeh: injecting link tag for BokehJS stylesheet: \", url);\n      document.body.appendChild(element);\n    }\n\n    for (let i = 0; i < js_urls.length; i++) {\n      const url = js_urls[i];\n      const element = document.createElement('script');\n      element.onload = on_load;\n      element.onerror = on_error.bind(null, url);\n      element.async = false;\n      element.src = url;\n      console.debug(\"Bokeh: injecting script tag for BokehJS library: \", url);\n      document.head.appendChild(element);\n    }\n  };\n\n  function inject_raw_css(css) {\n    const element = document.createElement(\"style\");\n    element.appendChild(document.createTextNode(css));\n    document.body.appendChild(element);\n  }\n\n  \n  const js_urls = [\"https://cdn.bokeh.org/bokeh/release/bokeh-2.4.2.min.js\", \"https://cdn.bokeh.org/bokeh/release/bokeh-gl-2.4.2.min.js\", \"https://cdn.bokeh.org/bokeh/release/bokeh-widgets-2.4.2.min.js\", \"https://cdn.bokeh.org/bokeh/release/bokeh-tables-2.4.2.min.js\", \"https://cdn.bokeh.org/bokeh/release/bokeh-mathjax-2.4.2.min.js\"];\n  const css_urls = [];\n  \n\n  const inline_js = [\n    function(Bokeh) {\n      Bokeh.set_log_level(\"info\");\n    },\n    function(Bokeh) {\n    \n    \n    }\n  ];\n\n  function run_inline_js() {\n    \n    if (root.Bokeh !== undefined || force === true) {\n      \n    for (let i = 0; i < inline_js.length; i++) {\n      inline_js[i].call(root, root.Bokeh);\n    }\n    if (force === true) {\n        display_loaded();\n      }} else if (Date.now() < root._bokeh_timeout) {\n      setTimeout(run_inline_js, 100);\n    } else if (!root._bokeh_failed_load) {\n      console.log(\"Bokeh: BokehJS failed to load within specified timeout.\");\n      root._bokeh_failed_load = true;\n    } else if (force !== true) {\n      const cell = $(document.getElementById(\"1001\")).parents('.cell').data().cell;\n      cell.output_area.append_execute_result(NB_LOAD_WARNING)\n    }\n\n  }\n\n  if (root._bokeh_is_loading === 0) {\n    console.debug(\"Bokeh: BokehJS loaded, going straight to plotting\");\n    run_inline_js();\n  } else {\n    load_libs(css_urls, js_urls, function() {\n      console.debug(\"Bokeh: BokehJS plotting callback run at\", now());\n      run_inline_js();\n    });\n  }\n}(window));"
     },
     "metadata": {},
     "output_type": "display_data"
    }
   ],
   "source": [
    "from bokeh.io import output_notebook\n",
    "output_notebook()"
   ]
  },
  {
   "cell_type": "code",
   "execution_count": 226,
   "id": "6e3f280a",
   "metadata": {},
   "outputs": [
    {
     "data": {
      "application/vnd.plotly.v1+json": {
       "config": {
        "plotlyServerURL": "https://plot.ly"
       },
       "data": [
        {
         "showlegend": false,
         "type": "bar",
         "x": [
          "joy",
          "positive",
          "anger",
          "sadness",
          "negative",
          "disgust",
          "trust",
          "surprise",
          "fear",
          "anticipation"
         ],
         "xaxis": "x",
         "y": [
          0.011718056459726527,
          0.02941350535598018,
          0.012960880629697519,
          0.012546605906373855,
          0.027223767532697955,
          0.011067053323075055,
          0.020536189856187378,
          0.0073977629164940295,
          0.011658874356394575,
          0.017221992069598065
         ],
         "yaxis": "y"
        },
        {
         "showlegend": false,
         "type": "bar",
         "x": [
          "Positive",
          "Negative"
         ],
         "xaxis": "x2",
         "y": [
          0.02515106130248412,
          0.033517533440066104
         ],
         "yaxis": "y2"
        },
        {
         "showlegend": false,
         "type": "bar",
         "x": [
          "Positive",
          "Negative",
          "Neutral"
         ],
         "xaxis": "x3",
         "y": [
          65,
          53,
          5
         ],
         "yaxis": "y3"
        }
       ],
       "layout": {
        "annotations": [
         {
          "font": {
           "size": 16
          },
          "showarrow": false,
          "text": "NRC Emotion Lexicon",
          "x": 0.14444444444444446,
          "xanchor": "center",
          "xref": "paper",
          "y": 1,
          "yanchor": "bottom",
          "yref": "paper"
         },
         {
          "font": {
           "size": 16
          },
          "showarrow": false,
          "text": "Hu and Liu's lexicon",
          "x": 0.5,
          "xanchor": "center",
          "xref": "paper",
          "y": 1,
          "yanchor": "bottom",
          "yref": "paper"
         },
         {
          "font": {
           "size": 16
          },
          "showarrow": false,
          "text": "Sentiment Analysis with TextBlob",
          "x": 0.8555555555555556,
          "xanchor": "center",
          "xref": "paper",
          "y": 1,
          "yanchor": "bottom",
          "yref": "paper"
         }
        ],
        "height": 500,
        "template": {
         "data": {
          "bar": [
           {
            "error_x": {
             "color": "#2a3f5f"
            },
            "error_y": {
             "color": "#2a3f5f"
            },
            "marker": {
             "line": {
              "color": "#E5ECF6",
              "width": 0.5
             },
             "pattern": {
              "fillmode": "overlay",
              "size": 10,
              "solidity": 0.2
             }
            },
            "type": "bar"
           }
          ],
          "barpolar": [
           {
            "marker": {
             "line": {
              "color": "#E5ECF6",
              "width": 0.5
             },
             "pattern": {
              "fillmode": "overlay",
              "size": 10,
              "solidity": 0.2
             }
            },
            "type": "barpolar"
           }
          ],
          "carpet": [
           {
            "aaxis": {
             "endlinecolor": "#2a3f5f",
             "gridcolor": "white",
             "linecolor": "white",
             "minorgridcolor": "white",
             "startlinecolor": "#2a3f5f"
            },
            "baxis": {
             "endlinecolor": "#2a3f5f",
             "gridcolor": "white",
             "linecolor": "white",
             "minorgridcolor": "white",
             "startlinecolor": "#2a3f5f"
            },
            "type": "carpet"
           }
          ],
          "choropleth": [
           {
            "colorbar": {
             "outlinewidth": 0,
             "ticks": ""
            },
            "type": "choropleth"
           }
          ],
          "contour": [
           {
            "colorbar": {
             "outlinewidth": 0,
             "ticks": ""
            },
            "colorscale": [
             [
              0,
              "#0d0887"
             ],
             [
              0.1111111111111111,
              "#46039f"
             ],
             [
              0.2222222222222222,
              "#7201a8"
             ],
             [
              0.3333333333333333,
              "#9c179e"
             ],
             [
              0.4444444444444444,
              "#bd3786"
             ],
             [
              0.5555555555555556,
              "#d8576b"
             ],
             [
              0.6666666666666666,
              "#ed7953"
             ],
             [
              0.7777777777777778,
              "#fb9f3a"
             ],
             [
              0.8888888888888888,
              "#fdca26"
             ],
             [
              1,
              "#f0f921"
             ]
            ],
            "type": "contour"
           }
          ],
          "contourcarpet": [
           {
            "colorbar": {
             "outlinewidth": 0,
             "ticks": ""
            },
            "type": "contourcarpet"
           }
          ],
          "heatmap": [
           {
            "colorbar": {
             "outlinewidth": 0,
             "ticks": ""
            },
            "colorscale": [
             [
              0,
              "#0d0887"
             ],
             [
              0.1111111111111111,
              "#46039f"
             ],
             [
              0.2222222222222222,
              "#7201a8"
             ],
             [
              0.3333333333333333,
              "#9c179e"
             ],
             [
              0.4444444444444444,
              "#bd3786"
             ],
             [
              0.5555555555555556,
              "#d8576b"
             ],
             [
              0.6666666666666666,
              "#ed7953"
             ],
             [
              0.7777777777777778,
              "#fb9f3a"
             ],
             [
              0.8888888888888888,
              "#fdca26"
             ],
             [
              1,
              "#f0f921"
             ]
            ],
            "type": "heatmap"
           }
          ],
          "heatmapgl": [
           {
            "colorbar": {
             "outlinewidth": 0,
             "ticks": ""
            },
            "colorscale": [
             [
              0,
              "#0d0887"
             ],
             [
              0.1111111111111111,
              "#46039f"
             ],
             [
              0.2222222222222222,
              "#7201a8"
             ],
             [
              0.3333333333333333,
              "#9c179e"
             ],
             [
              0.4444444444444444,
              "#bd3786"
             ],
             [
              0.5555555555555556,
              "#d8576b"
             ],
             [
              0.6666666666666666,
              "#ed7953"
             ],
             [
              0.7777777777777778,
              "#fb9f3a"
             ],
             [
              0.8888888888888888,
              "#fdca26"
             ],
             [
              1,
              "#f0f921"
             ]
            ],
            "type": "heatmapgl"
           }
          ],
          "histogram": [
           {
            "marker": {
             "pattern": {
              "fillmode": "overlay",
              "size": 10,
              "solidity": 0.2
             }
            },
            "type": "histogram"
           }
          ],
          "histogram2d": [
           {
            "colorbar": {
             "outlinewidth": 0,
             "ticks": ""
            },
            "colorscale": [
             [
              0,
              "#0d0887"
             ],
             [
              0.1111111111111111,
              "#46039f"
             ],
             [
              0.2222222222222222,
              "#7201a8"
             ],
             [
              0.3333333333333333,
              "#9c179e"
             ],
             [
              0.4444444444444444,
              "#bd3786"
             ],
             [
              0.5555555555555556,
              "#d8576b"
             ],
             [
              0.6666666666666666,
              "#ed7953"
             ],
             [
              0.7777777777777778,
              "#fb9f3a"
             ],
             [
              0.8888888888888888,
              "#fdca26"
             ],
             [
              1,
              "#f0f921"
             ]
            ],
            "type": "histogram2d"
           }
          ],
          "histogram2dcontour": [
           {
            "colorbar": {
             "outlinewidth": 0,
             "ticks": ""
            },
            "colorscale": [
             [
              0,
              "#0d0887"
             ],
             [
              0.1111111111111111,
              "#46039f"
             ],
             [
              0.2222222222222222,
              "#7201a8"
             ],
             [
              0.3333333333333333,
              "#9c179e"
             ],
             [
              0.4444444444444444,
              "#bd3786"
             ],
             [
              0.5555555555555556,
              "#d8576b"
             ],
             [
              0.6666666666666666,
              "#ed7953"
             ],
             [
              0.7777777777777778,
              "#fb9f3a"
             ],
             [
              0.8888888888888888,
              "#fdca26"
             ],
             [
              1,
              "#f0f921"
             ]
            ],
            "type": "histogram2dcontour"
           }
          ],
          "mesh3d": [
           {
            "colorbar": {
             "outlinewidth": 0,
             "ticks": ""
            },
            "type": "mesh3d"
           }
          ],
          "parcoords": [
           {
            "line": {
             "colorbar": {
              "outlinewidth": 0,
              "ticks": ""
             }
            },
            "type": "parcoords"
           }
          ],
          "pie": [
           {
            "automargin": true,
            "type": "pie"
           }
          ],
          "scatter": [
           {
            "marker": {
             "colorbar": {
              "outlinewidth": 0,
              "ticks": ""
             }
            },
            "type": "scatter"
           }
          ],
          "scatter3d": [
           {
            "line": {
             "colorbar": {
              "outlinewidth": 0,
              "ticks": ""
             }
            },
            "marker": {
             "colorbar": {
              "outlinewidth": 0,
              "ticks": ""
             }
            },
            "type": "scatter3d"
           }
          ],
          "scattercarpet": [
           {
            "marker": {
             "colorbar": {
              "outlinewidth": 0,
              "ticks": ""
             }
            },
            "type": "scattercarpet"
           }
          ],
          "scattergeo": [
           {
            "marker": {
             "colorbar": {
              "outlinewidth": 0,
              "ticks": ""
             }
            },
            "type": "scattergeo"
           }
          ],
          "scattergl": [
           {
            "marker": {
             "colorbar": {
              "outlinewidth": 0,
              "ticks": ""
             }
            },
            "type": "scattergl"
           }
          ],
          "scattermapbox": [
           {
            "marker": {
             "colorbar": {
              "outlinewidth": 0,
              "ticks": ""
             }
            },
            "type": "scattermapbox"
           }
          ],
          "scatterpolar": [
           {
            "marker": {
             "colorbar": {
              "outlinewidth": 0,
              "ticks": ""
             }
            },
            "type": "scatterpolar"
           }
          ],
          "scatterpolargl": [
           {
            "marker": {
             "colorbar": {
              "outlinewidth": 0,
              "ticks": ""
             }
            },
            "type": "scatterpolargl"
           }
          ],
          "scatterternary": [
           {
            "marker": {
             "colorbar": {
              "outlinewidth": 0,
              "ticks": ""
             }
            },
            "type": "scatterternary"
           }
          ],
          "surface": [
           {
            "colorbar": {
             "outlinewidth": 0,
             "ticks": ""
            },
            "colorscale": [
             [
              0,
              "#0d0887"
             ],
             [
              0.1111111111111111,
              "#46039f"
             ],
             [
              0.2222222222222222,
              "#7201a8"
             ],
             [
              0.3333333333333333,
              "#9c179e"
             ],
             [
              0.4444444444444444,
              "#bd3786"
             ],
             [
              0.5555555555555556,
              "#d8576b"
             ],
             [
              0.6666666666666666,
              "#ed7953"
             ],
             [
              0.7777777777777778,
              "#fb9f3a"
             ],
             [
              0.8888888888888888,
              "#fdca26"
             ],
             [
              1,
              "#f0f921"
             ]
            ],
            "type": "surface"
           }
          ],
          "table": [
           {
            "cells": {
             "fill": {
              "color": "#EBF0F8"
             },
             "line": {
              "color": "white"
             }
            },
            "header": {
             "fill": {
              "color": "#C8D4E3"
             },
             "line": {
              "color": "white"
             }
            },
            "type": "table"
           }
          ]
         },
         "layout": {
          "annotationdefaults": {
           "arrowcolor": "#2a3f5f",
           "arrowhead": 0,
           "arrowwidth": 1
          },
          "autotypenumbers": "strict",
          "coloraxis": {
           "colorbar": {
            "outlinewidth": 0,
            "ticks": ""
           }
          },
          "colorscale": {
           "diverging": [
            [
             0,
             "#8e0152"
            ],
            [
             0.1,
             "#c51b7d"
            ],
            [
             0.2,
             "#de77ae"
            ],
            [
             0.3,
             "#f1b6da"
            ],
            [
             0.4,
             "#fde0ef"
            ],
            [
             0.5,
             "#f7f7f7"
            ],
            [
             0.6,
             "#e6f5d0"
            ],
            [
             0.7,
             "#b8e186"
            ],
            [
             0.8,
             "#7fbc41"
            ],
            [
             0.9,
             "#4d9221"
            ],
            [
             1,
             "#276419"
            ]
           ],
           "sequential": [
            [
             0,
             "#0d0887"
            ],
            [
             0.1111111111111111,
             "#46039f"
            ],
            [
             0.2222222222222222,
             "#7201a8"
            ],
            [
             0.3333333333333333,
             "#9c179e"
            ],
            [
             0.4444444444444444,
             "#bd3786"
            ],
            [
             0.5555555555555556,
             "#d8576b"
            ],
            [
             0.6666666666666666,
             "#ed7953"
            ],
            [
             0.7777777777777778,
             "#fb9f3a"
            ],
            [
             0.8888888888888888,
             "#fdca26"
            ],
            [
             1,
             "#f0f921"
            ]
           ],
           "sequentialminus": [
            [
             0,
             "#0d0887"
            ],
            [
             0.1111111111111111,
             "#46039f"
            ],
            [
             0.2222222222222222,
             "#7201a8"
            ],
            [
             0.3333333333333333,
             "#9c179e"
            ],
            [
             0.4444444444444444,
             "#bd3786"
            ],
            [
             0.5555555555555556,
             "#d8576b"
            ],
            [
             0.6666666666666666,
             "#ed7953"
            ],
            [
             0.7777777777777778,
             "#fb9f3a"
            ],
            [
             0.8888888888888888,
             "#fdca26"
            ],
            [
             1,
             "#f0f921"
            ]
           ]
          },
          "colorway": [
           "#636efa",
           "#EF553B",
           "#00cc96",
           "#ab63fa",
           "#FFA15A",
           "#19d3f3",
           "#FF6692",
           "#B6E880",
           "#FF97FF",
           "#FECB52"
          ],
          "font": {
           "color": "#2a3f5f"
          },
          "geo": {
           "bgcolor": "white",
           "lakecolor": "white",
           "landcolor": "#E5ECF6",
           "showlakes": true,
           "showland": true,
           "subunitcolor": "white"
          },
          "hoverlabel": {
           "align": "left"
          },
          "hovermode": "closest",
          "mapbox": {
           "style": "light"
          },
          "paper_bgcolor": "white",
          "plot_bgcolor": "#E5ECF6",
          "polar": {
           "angularaxis": {
            "gridcolor": "white",
            "linecolor": "white",
            "ticks": ""
           },
           "bgcolor": "#E5ECF6",
           "radialaxis": {
            "gridcolor": "white",
            "linecolor": "white",
            "ticks": ""
           }
          },
          "scene": {
           "xaxis": {
            "backgroundcolor": "#E5ECF6",
            "gridcolor": "white",
            "gridwidth": 2,
            "linecolor": "white",
            "showbackground": true,
            "ticks": "",
            "zerolinecolor": "white"
           },
           "yaxis": {
            "backgroundcolor": "#E5ECF6",
            "gridcolor": "white",
            "gridwidth": 2,
            "linecolor": "white",
            "showbackground": true,
            "ticks": "",
            "zerolinecolor": "white"
           },
           "zaxis": {
            "backgroundcolor": "#E5ECF6",
            "gridcolor": "white",
            "gridwidth": 2,
            "linecolor": "white",
            "showbackground": true,
            "ticks": "",
            "zerolinecolor": "white"
           }
          },
          "shapedefaults": {
           "line": {
            "color": "#2a3f5f"
           }
          },
          "ternary": {
           "aaxis": {
            "gridcolor": "white",
            "linecolor": "white",
            "ticks": ""
           },
           "baxis": {
            "gridcolor": "white",
            "linecolor": "white",
            "ticks": ""
           },
           "bgcolor": "#E5ECF6",
           "caxis": {
            "gridcolor": "white",
            "linecolor": "white",
            "ticks": ""
           }
          },
          "title": {
           "x": 0.05
          },
          "xaxis": {
           "automargin": true,
           "gridcolor": "white",
           "linecolor": "white",
           "ticks": "",
           "title": {
            "standoff": 15
           },
           "zerolinecolor": "white",
           "zerolinewidth": 2
          },
          "yaxis": {
           "automargin": true,
           "gridcolor": "white",
           "linecolor": "white",
           "ticks": "",
           "title": {
            "standoff": 15
           },
           "zerolinecolor": "white",
           "zerolinewidth": 2
          }
         }
        },
        "title": {
         "text": "Simple Sentiment Analysis"
        },
        "width": 1000,
        "xaxis": {
         "anchor": "y",
         "domain": [
          0,
          0.2888888888888889
         ]
        },
        "xaxis2": {
         "anchor": "y2",
         "domain": [
          0.35555555555555557,
          0.6444444444444445
         ]
        },
        "xaxis3": {
         "anchor": "y3",
         "domain": [
          0.7111111111111111,
          1
         ]
        },
        "yaxis": {
         "anchor": "x",
         "domain": [
          0,
          1
         ]
        },
        "yaxis2": {
         "anchor": "x2",
         "domain": [
          0,
          1
         ]
        },
        "yaxis3": {
         "anchor": "x3",
         "domain": [
          0,
          1
         ]
        }
       }
      },
      "text/html": [
       "<div>                            <div id=\"12488088-b595-49f4-9021-7647384ad06d\" class=\"plotly-graph-div\" style=\"height:500px; width:1000px;\"></div>            <script type=\"text/javascript\">                require([\"plotly\"], function(Plotly) {                    window.PLOTLYENV=window.PLOTLYENV || {};                                    if (document.getElementById(\"12488088-b595-49f4-9021-7647384ad06d\")) {                    Plotly.newPlot(                        \"12488088-b595-49f4-9021-7647384ad06d\",                        [{\"showlegend\":false,\"x\":[\"joy\",\"positive\",\"anger\",\"sadness\",\"negative\",\"disgust\",\"trust\",\"surprise\",\"fear\",\"anticipation\"],\"y\":[0.011718056459726527,0.02941350535598018,0.012960880629697519,0.012546605906373855,0.027223767532697955,0.011067053323075055,0.020536189856187378,0.0073977629164940295,0.011658874356394575,0.017221992069598065],\"type\":\"bar\",\"xaxis\":\"x\",\"yaxis\":\"y\"},{\"showlegend\":false,\"x\":[\"Positive\",\"Negative\"],\"y\":[0.02515106130248412,0.033517533440066104],\"type\":\"bar\",\"xaxis\":\"x2\",\"yaxis\":\"y2\"},{\"showlegend\":false,\"x\":[\"Positive\",\"Negative\",\"Neutral\"],\"y\":[65,53,5],\"type\":\"bar\",\"xaxis\":\"x3\",\"yaxis\":\"y3\"}],                        {\"template\":{\"data\":{\"bar\":[{\"error_x\":{\"color\":\"#2a3f5f\"},\"error_y\":{\"color\":\"#2a3f5f\"},\"marker\":{\"line\":{\"color\":\"#E5ECF6\",\"width\":0.5},\"pattern\":{\"fillmode\":\"overlay\",\"size\":10,\"solidity\":0.2}},\"type\":\"bar\"}],\"barpolar\":[{\"marker\":{\"line\":{\"color\":\"#E5ECF6\",\"width\":0.5},\"pattern\":{\"fillmode\":\"overlay\",\"size\":10,\"solidity\":0.2}},\"type\":\"barpolar\"}],\"carpet\":[{\"aaxis\":{\"endlinecolor\":\"#2a3f5f\",\"gridcolor\":\"white\",\"linecolor\":\"white\",\"minorgridcolor\":\"white\",\"startlinecolor\":\"#2a3f5f\"},\"baxis\":{\"endlinecolor\":\"#2a3f5f\",\"gridcolor\":\"white\",\"linecolor\":\"white\",\"minorgridcolor\":\"white\",\"startlinecolor\":\"#2a3f5f\"},\"type\":\"carpet\"}],\"choropleth\":[{\"colorbar\":{\"outlinewidth\":0,\"ticks\":\"\"},\"type\":\"choropleth\"}],\"contour\":[{\"colorbar\":{\"outlinewidth\":0,\"ticks\":\"\"},\"colorscale\":[[0.0,\"#0d0887\"],[0.1111111111111111,\"#46039f\"],[0.2222222222222222,\"#7201a8\"],[0.3333333333333333,\"#9c179e\"],[0.4444444444444444,\"#bd3786\"],[0.5555555555555556,\"#d8576b\"],[0.6666666666666666,\"#ed7953\"],[0.7777777777777778,\"#fb9f3a\"],[0.8888888888888888,\"#fdca26\"],[1.0,\"#f0f921\"]],\"type\":\"contour\"}],\"contourcarpet\":[{\"colorbar\":{\"outlinewidth\":0,\"ticks\":\"\"},\"type\":\"contourcarpet\"}],\"heatmap\":[{\"colorbar\":{\"outlinewidth\":0,\"ticks\":\"\"},\"colorscale\":[[0.0,\"#0d0887\"],[0.1111111111111111,\"#46039f\"],[0.2222222222222222,\"#7201a8\"],[0.3333333333333333,\"#9c179e\"],[0.4444444444444444,\"#bd3786\"],[0.5555555555555556,\"#d8576b\"],[0.6666666666666666,\"#ed7953\"],[0.7777777777777778,\"#fb9f3a\"],[0.8888888888888888,\"#fdca26\"],[1.0,\"#f0f921\"]],\"type\":\"heatmap\"}],\"heatmapgl\":[{\"colorbar\":{\"outlinewidth\":0,\"ticks\":\"\"},\"colorscale\":[[0.0,\"#0d0887\"],[0.1111111111111111,\"#46039f\"],[0.2222222222222222,\"#7201a8\"],[0.3333333333333333,\"#9c179e\"],[0.4444444444444444,\"#bd3786\"],[0.5555555555555556,\"#d8576b\"],[0.6666666666666666,\"#ed7953\"],[0.7777777777777778,\"#fb9f3a\"],[0.8888888888888888,\"#fdca26\"],[1.0,\"#f0f921\"]],\"type\":\"heatmapgl\"}],\"histogram\":[{\"marker\":{\"pattern\":{\"fillmode\":\"overlay\",\"size\":10,\"solidity\":0.2}},\"type\":\"histogram\"}],\"histogram2d\":[{\"colorbar\":{\"outlinewidth\":0,\"ticks\":\"\"},\"colorscale\":[[0.0,\"#0d0887\"],[0.1111111111111111,\"#46039f\"],[0.2222222222222222,\"#7201a8\"],[0.3333333333333333,\"#9c179e\"],[0.4444444444444444,\"#bd3786\"],[0.5555555555555556,\"#d8576b\"],[0.6666666666666666,\"#ed7953\"],[0.7777777777777778,\"#fb9f3a\"],[0.8888888888888888,\"#fdca26\"],[1.0,\"#f0f921\"]],\"type\":\"histogram2d\"}],\"histogram2dcontour\":[{\"colorbar\":{\"outlinewidth\":0,\"ticks\":\"\"},\"colorscale\":[[0.0,\"#0d0887\"],[0.1111111111111111,\"#46039f\"],[0.2222222222222222,\"#7201a8\"],[0.3333333333333333,\"#9c179e\"],[0.4444444444444444,\"#bd3786\"],[0.5555555555555556,\"#d8576b\"],[0.6666666666666666,\"#ed7953\"],[0.7777777777777778,\"#fb9f3a\"],[0.8888888888888888,\"#fdca26\"],[1.0,\"#f0f921\"]],\"type\":\"histogram2dcontour\"}],\"mesh3d\":[{\"colorbar\":{\"outlinewidth\":0,\"ticks\":\"\"},\"type\":\"mesh3d\"}],\"parcoords\":[{\"line\":{\"colorbar\":{\"outlinewidth\":0,\"ticks\":\"\"}},\"type\":\"parcoords\"}],\"pie\":[{\"automargin\":true,\"type\":\"pie\"}],\"scatter\":[{\"marker\":{\"colorbar\":{\"outlinewidth\":0,\"ticks\":\"\"}},\"type\":\"scatter\"}],\"scatter3d\":[{\"line\":{\"colorbar\":{\"outlinewidth\":0,\"ticks\":\"\"}},\"marker\":{\"colorbar\":{\"outlinewidth\":0,\"ticks\":\"\"}},\"type\":\"scatter3d\"}],\"scattercarpet\":[{\"marker\":{\"colorbar\":{\"outlinewidth\":0,\"ticks\":\"\"}},\"type\":\"scattercarpet\"}],\"scattergeo\":[{\"marker\":{\"colorbar\":{\"outlinewidth\":0,\"ticks\":\"\"}},\"type\":\"scattergeo\"}],\"scattergl\":[{\"marker\":{\"colorbar\":{\"outlinewidth\":0,\"ticks\":\"\"}},\"type\":\"scattergl\"}],\"scattermapbox\":[{\"marker\":{\"colorbar\":{\"outlinewidth\":0,\"ticks\":\"\"}},\"type\":\"scattermapbox\"}],\"scatterpolar\":[{\"marker\":{\"colorbar\":{\"outlinewidth\":0,\"ticks\":\"\"}},\"type\":\"scatterpolar\"}],\"scatterpolargl\":[{\"marker\":{\"colorbar\":{\"outlinewidth\":0,\"ticks\":\"\"}},\"type\":\"scatterpolargl\"}],\"scatterternary\":[{\"marker\":{\"colorbar\":{\"outlinewidth\":0,\"ticks\":\"\"}},\"type\":\"scatterternary\"}],\"surface\":[{\"colorbar\":{\"outlinewidth\":0,\"ticks\":\"\"},\"colorscale\":[[0.0,\"#0d0887\"],[0.1111111111111111,\"#46039f\"],[0.2222222222222222,\"#7201a8\"],[0.3333333333333333,\"#9c179e\"],[0.4444444444444444,\"#bd3786\"],[0.5555555555555556,\"#d8576b\"],[0.6666666666666666,\"#ed7953\"],[0.7777777777777778,\"#fb9f3a\"],[0.8888888888888888,\"#fdca26\"],[1.0,\"#f0f921\"]],\"type\":\"surface\"}],\"table\":[{\"cells\":{\"fill\":{\"color\":\"#EBF0F8\"},\"line\":{\"color\":\"white\"}},\"header\":{\"fill\":{\"color\":\"#C8D4E3\"},\"line\":{\"color\":\"white\"}},\"type\":\"table\"}]},\"layout\":{\"annotationdefaults\":{\"arrowcolor\":\"#2a3f5f\",\"arrowhead\":0,\"arrowwidth\":1},\"autotypenumbers\":\"strict\",\"coloraxis\":{\"colorbar\":{\"outlinewidth\":0,\"ticks\":\"\"}},\"colorscale\":{\"diverging\":[[0,\"#8e0152\"],[0.1,\"#c51b7d\"],[0.2,\"#de77ae\"],[0.3,\"#f1b6da\"],[0.4,\"#fde0ef\"],[0.5,\"#f7f7f7\"],[0.6,\"#e6f5d0\"],[0.7,\"#b8e186\"],[0.8,\"#7fbc41\"],[0.9,\"#4d9221\"],[1,\"#276419\"]],\"sequential\":[[0.0,\"#0d0887\"],[0.1111111111111111,\"#46039f\"],[0.2222222222222222,\"#7201a8\"],[0.3333333333333333,\"#9c179e\"],[0.4444444444444444,\"#bd3786\"],[0.5555555555555556,\"#d8576b\"],[0.6666666666666666,\"#ed7953\"],[0.7777777777777778,\"#fb9f3a\"],[0.8888888888888888,\"#fdca26\"],[1.0,\"#f0f921\"]],\"sequentialminus\":[[0.0,\"#0d0887\"],[0.1111111111111111,\"#46039f\"],[0.2222222222222222,\"#7201a8\"],[0.3333333333333333,\"#9c179e\"],[0.4444444444444444,\"#bd3786\"],[0.5555555555555556,\"#d8576b\"],[0.6666666666666666,\"#ed7953\"],[0.7777777777777778,\"#fb9f3a\"],[0.8888888888888888,\"#fdca26\"],[1.0,\"#f0f921\"]]},\"colorway\":[\"#636efa\",\"#EF553B\",\"#00cc96\",\"#ab63fa\",\"#FFA15A\",\"#19d3f3\",\"#FF6692\",\"#B6E880\",\"#FF97FF\",\"#FECB52\"],\"font\":{\"color\":\"#2a3f5f\"},\"geo\":{\"bgcolor\":\"white\",\"lakecolor\":\"white\",\"landcolor\":\"#E5ECF6\",\"showlakes\":true,\"showland\":true,\"subunitcolor\":\"white\"},\"hoverlabel\":{\"align\":\"left\"},\"hovermode\":\"closest\",\"mapbox\":{\"style\":\"light\"},\"paper_bgcolor\":\"white\",\"plot_bgcolor\":\"#E5ECF6\",\"polar\":{\"angularaxis\":{\"gridcolor\":\"white\",\"linecolor\":\"white\",\"ticks\":\"\"},\"bgcolor\":\"#E5ECF6\",\"radialaxis\":{\"gridcolor\":\"white\",\"linecolor\":\"white\",\"ticks\":\"\"}},\"scene\":{\"xaxis\":{\"backgroundcolor\":\"#E5ECF6\",\"gridcolor\":\"white\",\"gridwidth\":2,\"linecolor\":\"white\",\"showbackground\":true,\"ticks\":\"\",\"zerolinecolor\":\"white\"},\"yaxis\":{\"backgroundcolor\":\"#E5ECF6\",\"gridcolor\":\"white\",\"gridwidth\":2,\"linecolor\":\"white\",\"showbackground\":true,\"ticks\":\"\",\"zerolinecolor\":\"white\"},\"zaxis\":{\"backgroundcolor\":\"#E5ECF6\",\"gridcolor\":\"white\",\"gridwidth\":2,\"linecolor\":\"white\",\"showbackground\":true,\"ticks\":\"\",\"zerolinecolor\":\"white\"}},\"shapedefaults\":{\"line\":{\"color\":\"#2a3f5f\"}},\"ternary\":{\"aaxis\":{\"gridcolor\":\"white\",\"linecolor\":\"white\",\"ticks\":\"\"},\"baxis\":{\"gridcolor\":\"white\",\"linecolor\":\"white\",\"ticks\":\"\"},\"bgcolor\":\"#E5ECF6\",\"caxis\":{\"gridcolor\":\"white\",\"linecolor\":\"white\",\"ticks\":\"\"}},\"title\":{\"x\":0.05},\"xaxis\":{\"automargin\":true,\"gridcolor\":\"white\",\"linecolor\":\"white\",\"ticks\":\"\",\"title\":{\"standoff\":15},\"zerolinecolor\":\"white\",\"zerolinewidth\":2},\"yaxis\":{\"automargin\":true,\"gridcolor\":\"white\",\"linecolor\":\"white\",\"ticks\":\"\",\"title\":{\"standoff\":15},\"zerolinecolor\":\"white\",\"zerolinewidth\":2}}},\"xaxis\":{\"anchor\":\"y\",\"domain\":[0.0,0.2888888888888889]},\"yaxis\":{\"anchor\":\"x\",\"domain\":[0.0,1.0]},\"xaxis2\":{\"anchor\":\"y2\",\"domain\":[0.35555555555555557,0.6444444444444445]},\"yaxis2\":{\"anchor\":\"x2\",\"domain\":[0.0,1.0]},\"xaxis3\":{\"anchor\":\"y3\",\"domain\":[0.7111111111111111,1.0]},\"yaxis3\":{\"anchor\":\"x3\",\"domain\":[0.0,1.0]},\"annotations\":[{\"font\":{\"size\":16},\"showarrow\":false,\"text\":\"NRC Emotion Lexicon\",\"x\":0.14444444444444446,\"xanchor\":\"center\",\"xref\":\"paper\",\"y\":1.0,\"yanchor\":\"bottom\",\"yref\":\"paper\"},{\"font\":{\"size\":16},\"showarrow\":false,\"text\":\"Hu and Liu's lexicon\",\"x\":0.5,\"xanchor\":\"center\",\"xref\":\"paper\",\"y\":1.0,\"yanchor\":\"bottom\",\"yref\":\"paper\"},{\"font\":{\"size\":16},\"showarrow\":false,\"text\":\"Sentiment Analysis with TextBlob\",\"x\":0.8555555555555556,\"xanchor\":\"center\",\"xref\":\"paper\",\"y\":1.0,\"yanchor\":\"bottom\",\"yref\":\"paper\"}],\"title\":{\"text\":\"Simple Sentiment Analysis\"},\"height\":500,\"width\":1000},                        {\"responsive\": true}                    ).then(function(){\n",
       "                            \n",
       "var gd = document.getElementById('12488088-b595-49f4-9021-7647384ad06d');\n",
       "var x = new MutationObserver(function (mutations, observer) {{\n",
       "        var display = window.getComputedStyle(gd).display;\n",
       "        if (!display || display === 'none') {{\n",
       "            console.log([gd, 'removed!']);\n",
       "            Plotly.purge(gd);\n",
       "            observer.disconnect();\n",
       "        }}\n",
       "}});\n",
       "\n",
       "// Listen for the removal of the full notebook cells\n",
       "var notebookContainer = gd.closest('#notebook-container');\n",
       "if (notebookContainer) {{\n",
       "    x.observe(notebookContainer, {childList: true});\n",
       "}}\n",
       "\n",
       "// Listen for the clearing of the current output cell\n",
       "var outputEl = gd.closest('.output');\n",
       "if (outputEl) {{\n",
       "    x.observe(outputEl, {childList: true});\n",
       "}}\n",
       "\n",
       "                        })                };                });            </script>        </div>"
      ]
     },
     "metadata": {},
     "output_type": "display_data"
    }
   ],
   "source": [
    "from plotly.subplots import make_subplots\n",
    "import plotly.graph_objects as go\n",
    "\n",
    "polarity_scores=reviews_sample['Polarity'].value_counts().reset_index()\n",
    "fig = make_subplots(rows=1, cols=3,\n",
    "                   subplot_titles=['NRC Emotion Lexicon',\"Hu and Liu's lexicon\",\"Sentiment Analysis with TextBlob\"])\n",
    "fig.add_trace(\n",
    "go.Bar(x=[emotion for emotion in NRC_emotions.keys()],\n",
    "       y=[score for score in NRC_emotions.values()],\n",
    "      showlegend=False),\n",
    "    row=1,col=1\n",
    ")\n",
    "fig.add_trace(\n",
    "go.Bar(x=[\"Positive\",'Negative'],\n",
    "      y=[cpos/len(word_tokenize(reviews_all_combined)),\n",
    "        cneg/len(word_tokenize(reviews_all_combined))],\n",
    "       showlegend=False\n",
    "      ),row=1,col=2\n",
    ")\n",
    "\n",
    "fig.add_trace(\n",
    "go.Bar(x=polarity_scores[\"index\"].values,\n",
    "      y=polarity_scores['Polarity'].values,\n",
    "      showlegend=False\n",
    "      ),row=1,col=3)\n",
    "fig.update_layout(height=500, width=1000, title_text=\"Simple Sentiment Analysis\")\n",
    "fig.show()"
   ]
  },
  {
   "cell_type": "code",
   "execution_count": 227,
   "id": "d064fb94",
   "metadata": {},
   "outputs": [],
   "source": [
    "fig.write_html(\"visualizations/nlp/sentiment_analysis.html\")"
   ]
  },
  {
   "cell_type": "markdown",
   "id": "940f6fe9",
   "metadata": {},
   "source": [
    "## Word Cloud\n"
   ]
  },
  {
   "cell_type": "code",
   "execution_count": 250,
   "id": "b1f2bce5",
   "metadata": {},
   "outputs": [],
   "source": [
    "from wordcloud import WordCloud, STOPWORDS\n",
    "from nltk.tokenize import word_tokenize\n",
    "from nltk.tokenize import sent_tokenize\n",
    "from nltk.probability import FreqDist\n",
    "from nltk.corpus import stopwords\n",
    "from collections import OrderedDict\n",
    "import gensim\n",
    "from gensim import corpora"
   ]
  },
  {
   "cell_type": "code",
   "execution_count": 264,
   "id": "d8496789",
   "metadata": {},
   "outputs": [],
   "source": [
    "positive_reviews=\"\"\n",
    "negative_reviews=\"\"\n",
    "neutral_reviews=\"\"\n",
    "for review in reviews_sample[reviews_sample['Polarity']=='Positive']['Reviews'].to_list():\n",
    "    positive_reviews+=review\n",
    "for review in reviews_sample[reviews_sample['Polarity']=='Negative']['Reviews'].to_list():\n",
    "    negative_reviews+=review\n",
    "for review in reviews_sample[reviews_sample['Polarity']=='Neutral']['Reviews'].to_list():\n",
    "    neutral_reviews+=review"
   ]
  },
  {
   "cell_type": "code",
   "execution_count": 267,
   "id": "3f01b179",
   "metadata": {},
   "outputs": [
    {
     "data": {
      "text/plain": [
       "\"Why do you announce L train (Union Square) to 8ave if it's not going that way? Google maps says it's running. I hear announcements on the station that it's running. Then it arrives, they tell us it's last atop and it will go to Brooklyn. What on earth?????it took $11.00 from my debit card and showed balance $0.00 on metro card. The turnstile did not let me go bc of the balanceBusses don't stop at the bus stops with signs. No other city in the world has bus stops where the bus doesn't actually stop.Continue the same tonight the lady at 53 street said me is a pilot program the OMNY but when I ask her why the advertising a pilot program she said me to go and get a metrocard if I want to travel.Metro cards are not reliable. Constantly lose money\""
      ]
     },
     "execution_count": 267,
     "metadata": {},
     "output_type": "execute_result"
    }
   ],
   "source": [
    "neutral_reviews"
   ]
  },
  {
   "cell_type": "code",
   "execution_count": 234,
   "id": "0d2039c8",
   "metadata": {},
   "outputs": [],
   "source": [
    "# wordcloud = WordCloud(stopwords=STOPWORDS,\n",
    "#                       background_color='white',\n",
    "#                       width=3000,height=3000).generate(reviews_all_combined)\n",
    "#Remove short words\n",
    "MIN_LENGTH =2\n",
    "def remove_short_words(text_string,min_length = MIN_LENGTH):\n",
    "    word_list = text_string.split()\n",
    "    for word in word_list:\n",
    "        if len(word) <= min_length:\n",
    "            text_string = text_string.replace(' '+word+' ',' ',1)\n",
    "    return text_string\n",
    "\n",
    "DELETE_WORDS = [\"train\",\"subway\",\"MTA\",\"NY\"]\n",
    "def remove_words(text_string,DELETE_WORDS=DELETE_WORDS):\n",
    "    for word in DELETE_WORDS:\n",
    "        text_string = text_string.replace(word,' ')\n",
    "    return text_string"
   ]
  },
  {
   "cell_type": "code",
   "execution_count": 239,
   "id": "8328b23b",
   "metadata": {},
   "outputs": [
    {
     "data": {
      "text/plain": [
       "[('the', 110),\n",
       " ('card', 73),\n",
       " ('system', 67),\n",
       " ('i', 58),\n",
       " ('time', 52),\n",
       " ('service', 45),\n",
       " ('city', 43),\n",
       " ('bus', 43),\n",
       " ('day', 41),\n",
       " ('station', 40),\n",
       " ('stations', 38),\n",
       " ('money', 34),\n",
       " ('and', 34),\n",
       " ('new', 32),\n",
       " ('ride', 30),\n",
       " ('pay', 29),\n",
       " ('metro', 28),\n",
       " ('you', 28),\n",
       " ('work', 27),\n",
       " ('world', 26)]"
      ]
     },
     "execution_count": 239,
     "metadata": {},
     "output_type": "execute_result"
    }
   ],
   "source": [
    "text_string = remove_words(reviews_all_combined)\n",
    "text_string = remove_short_words(text_string)\n",
    "\n",
    "words = word_tokenize(text_string)\n",
    "lowercase_words = [word.lower() for word in words\n",
    "                  if word not in stopwords.words() and word.isalpha()]\n",
    "word_frequencies = FreqDist(lowercase_words)\n",
    "most_frequent_words = FreqDist(lowercase_words).most_common(20)\n",
    "most_frequent_words"
   ]
  },
  {
   "cell_type": "markdown",
   "id": "318af075",
   "metadata": {},
   "source": [
    "## Topic modeling"
   ]
  },
  {
   "cell_type": "code",
   "execution_count": 242,
   "id": "2cf84a3c",
   "metadata": {},
   "outputs": [
    {
     "data": {
      "text/html": [
       "<div>\n",
       "<style scoped>\n",
       "    .dataframe tbody tr th:only-of-type {\n",
       "        vertical-align: middle;\n",
       "    }\n",
       "\n",
       "    .dataframe tbody tr th {\n",
       "        vertical-align: top;\n",
       "    }\n",
       "\n",
       "    .dataframe thead th {\n",
       "        text-align: right;\n",
       "    }\n",
       "</style>\n",
       "<table border=\"1\" class=\"dataframe\">\n",
       "  <thead>\n",
       "    <tr style=\"text-align: right;\">\n",
       "      <th></th>\n",
       "      <th>Reviews</th>\n",
       "      <th>Cleaned Reviews</th>\n",
       "      <th>Final Reviews</th>\n",
       "      <th>Score</th>\n",
       "      <th>Polarity</th>\n",
       "      <th>LDA Reviews</th>\n",
       "    </tr>\n",
       "  </thead>\n",
       "  <tbody>\n",
       "    <tr>\n",
       "      <th>0</th>\n",
       "      <td>What do I know, I'm just a stupid tourist who ...</td>\n",
       "      <td>what do i know i m just a stupid tourist who c...</td>\n",
       "      <td>know stupid tourist come citi year take subwa...</td>\n",
       "      <td>0.066667</td>\n",
       "      <td>Positive</td>\n",
       "      <td>[know, stupid, tourist, comes, city, year, tak...</td>\n",
       "    </tr>\n",
       "    <tr>\n",
       "      <th>1</th>\n",
       "      <td>This Company is A Literally A Gangsters Mafia ...</td>\n",
       "      <td>this company is a literally a gangsters mafia ...</td>\n",
       "      <td>compani liter gangster mafia organ group crim...</td>\n",
       "      <td>-0.008251</td>\n",
       "      <td>Negative</td>\n",
       "      <td>[company, literally, gangsters, mafia, organiz...</td>\n",
       "    </tr>\n",
       "  </tbody>\n",
       "</table>\n",
       "</div>"
      ],
      "text/plain": [
       "                                             Reviews  \\\n",
       "0  What do I know, I'm just a stupid tourist who ...   \n",
       "1  This Company is A Literally A Gangsters Mafia ...   \n",
       "\n",
       "                                     Cleaned Reviews  \\\n",
       "0  what do i know i m just a stupid tourist who c...   \n",
       "1  this company is a literally a gangsters mafia ...   \n",
       "\n",
       "                                       Final Reviews     Score  Polarity  \\\n",
       "0   know stupid tourist come citi year take subwa...  0.066667  Positive   \n",
       "1   compani liter gangster mafia organ group crim... -0.008251  Negative   \n",
       "\n",
       "                                         LDA Reviews  \n",
       "0  [know, stupid, tourist, comes, city, year, tak...  \n",
       "1  [company, literally, gangsters, mafia, organiz...  "
      ]
     },
     "execution_count": 242,
     "metadata": {},
     "output_type": "execute_result"
    }
   ],
   "source": [
    "def token_stop(text):\n",
    "    tokens = word_tokenize(text) # tokenize the text\n",
    "    newlist = []\n",
    "    for word in tokens:\n",
    "        if word not in set(stopwords.words('english')): # remove stop words\n",
    "          newlist.append(word)\n",
    "    return newlist\n",
    "\n",
    "reviews_sample['LDA Reviews'] = reviews_sample['Cleaned Reviews'].apply(token_stop)\n",
    "reviews_sample.head(2)"
   ]
  },
  {
   "cell_type": "code",
   "execution_count": 248,
   "id": "44a3ff32",
   "metadata": {},
   "outputs": [],
   "source": [
    "from gensim import corpora\n",
    "from gensim.models.ldamodel import LdaModel\n",
    "#Create a (word,frequency) dictionary for each word in the text¶\n",
    "#dictionary: key = word, value = integer (a unique number attached to each word). corpora.Dictionary generates this.\n",
    "\n",
    "dict_ = corpora.Dictionary(reviews_sample['LDA Reviews'])\n",
    "# convert list of documents (corpus) into Document Term Matrix using the dictionary\n",
    "doc_term_matrix = [dict_.doc2bow(i) for i in reviews_sample['LDA Reviews']]\n"
   ]
  },
  {
   "cell_type": "code",
   "execution_count": 256,
   "id": "084aa61f",
   "metadata": {},
   "outputs": [],
   "source": [
    "num_topics=3\n",
    "passes=20\n",
    "iterations = 400\n",
    "eval_every = None## don't evaluate model perplexity, takes too much time"
   ]
  },
  {
   "cell_type": "code",
   "execution_count": 257,
   "id": "d6052942",
   "metadata": {},
   "outputs": [],
   "source": [
    "lda = gensim.models.LdaModel\n",
    "lda_model = lda(doc_term_matrix,\n",
    "                id2word = dict_,\n",
    "    num_topics=num_topics,\n",
    "    iterations=iterations,\n",
    "    passes=passes,\n",
    "    eval_every=eval_every,\n",
    "    random_state=9651\n",
    ")"
   ]
  },
  {
   "cell_type": "code",
   "execution_count": 258,
   "id": "58170cbd",
   "metadata": {},
   "outputs": [
    {
     "data": {
      "text/plain": [
       "[(0, '0.009*\"train\" + 0.009*\"nyc\" + 0.006*\"system\"'),\n",
       " (1, '0.019*\"card\" + 0.012*\"get\" + 0.010*\"people\"'),\n",
       " (2, '0.016*\"mta\" + 0.009*\"subway\" + 0.009*\"train\"')]"
      ]
     },
     "execution_count": 258,
     "metadata": {},
     "output_type": "execute_result"
    }
   ],
   "source": [
    "lda_model.print_topics(num_words=3)"
   ]
  },
  {
   "cell_type": "code",
   "execution_count": 268,
   "id": "92088793",
   "metadata": {},
   "outputs": [
    {
     "data": {
      "text/plain": [
       "123"
      ]
     },
     "execution_count": 268,
     "metadata": {},
     "output_type": "execute_result"
    }
   ],
   "source": [
    "len(reviews_sample)"
   ]
  },
  {
   "cell_type": "code",
   "execution_count": null,
   "id": "5bcc6b0a",
   "metadata": {},
   "outputs": [],
   "source": []
  }
 ],
 "metadata": {
  "kernelspec": {
   "display_name": "Python 3 (ipykernel)",
   "language": "python",
   "name": "python3"
  },
  "language_info": {
   "codemirror_mode": {
    "name": "ipython",
    "version": 3
   },
   "file_extension": ".py",
   "mimetype": "text/x-python",
   "name": "python",
   "nbconvert_exporter": "python",
   "pygments_lexer": "ipython3",
   "version": "3.9.12"
  }
 },
 "nbformat": 4,
 "nbformat_minor": 5
}
