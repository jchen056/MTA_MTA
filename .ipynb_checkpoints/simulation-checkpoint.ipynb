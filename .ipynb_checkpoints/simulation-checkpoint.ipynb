{
 "cells": [
  {
   "cell_type": "code",
   "execution_count": 162,
   "id": "797612be",
   "metadata": {},
   "outputs": [],
   "source": [
    "import numpy as np\n",
    "import pandas as pd\n",
    "import math\n",
    "import matplotlib.pyplot as plt\n",
    "import seaborn as sns\n",
    "from ipywidgets import interact, FloatSlider\n",
    "import ipywidgets as widgets"
   ]
  },
  {
   "cell_type": "markdown",
   "id": "b84f4499",
   "metadata": {},
   "source": [
    "## Import Data"
   ]
  },
  {
   "cell_type": "code",
   "execution_count": 2,
   "id": "86ad21bb",
   "metadata": {},
   "outputs": [
    {
     "data": {
      "text/html": [
       "<div>\n",
       "<style scoped>\n",
       "    .dataframe tbody tr th:only-of-type {\n",
       "        vertical-align: middle;\n",
       "    }\n",
       "\n",
       "    .dataframe tbody tr th {\n",
       "        vertical-align: top;\n",
       "    }\n",
       "\n",
       "    .dataframe thead th {\n",
       "        text-align: right;\n",
       "    }\n",
       "</style>\n",
       "<table border=\"1\" class=\"dataframe\">\n",
       "  <thead>\n",
       "    <tr style=\"text-align: right;\">\n",
       "      <th></th>\n",
       "      <th>station_complex</th>\n",
       "      <th>borough</th>\n",
       "      <th>date</th>\n",
       "      <th>hour</th>\n",
       "      <th>month</th>\n",
       "      <th>weekdays</th>\n",
       "      <th>num_lines</th>\n",
       "      <th>ridership</th>\n",
       "      <th>TMAX</th>\n",
       "      <th>TMIN</th>\n",
       "      <th>PRCP</th>\n",
       "      <th>avg_T</th>\n",
       "    </tr>\n",
       "  </thead>\n",
       "  <tbody>\n",
       "    <tr>\n",
       "      <th>0</th>\n",
       "      <td>1 Av (L)</td>\n",
       "      <td>M</td>\n",
       "      <td>2022-02-01</td>\n",
       "      <td>0</td>\n",
       "      <td>2</td>\n",
       "      <td>1</td>\n",
       "      <td>1</td>\n",
       "      <td>124</td>\n",
       "      <td>36</td>\n",
       "      <td>23</td>\n",
       "      <td>0.0</td>\n",
       "      <td>29.5</td>\n",
       "    </tr>\n",
       "    <tr>\n",
       "      <th>1</th>\n",
       "      <td>1 Av (L)</td>\n",
       "      <td>M</td>\n",
       "      <td>2022-02-01</td>\n",
       "      <td>1</td>\n",
       "      <td>2</td>\n",
       "      <td>1</td>\n",
       "      <td>1</td>\n",
       "      <td>28</td>\n",
       "      <td>36</td>\n",
       "      <td>23</td>\n",
       "      <td>0.0</td>\n",
       "      <td>29.5</td>\n",
       "    </tr>\n",
       "    <tr>\n",
       "      <th>2</th>\n",
       "      <td>1 Av (L)</td>\n",
       "      <td>M</td>\n",
       "      <td>2022-02-01</td>\n",
       "      <td>2</td>\n",
       "      <td>2</td>\n",
       "      <td>1</td>\n",
       "      <td>1</td>\n",
       "      <td>38</td>\n",
       "      <td>36</td>\n",
       "      <td>23</td>\n",
       "      <td>0.0</td>\n",
       "      <td>29.5</td>\n",
       "    </tr>\n",
       "    <tr>\n",
       "      <th>3</th>\n",
       "      <td>1 Av (L)</td>\n",
       "      <td>M</td>\n",
       "      <td>2022-02-01</td>\n",
       "      <td>3</td>\n",
       "      <td>2</td>\n",
       "      <td>1</td>\n",
       "      <td>1</td>\n",
       "      <td>14</td>\n",
       "      <td>36</td>\n",
       "      <td>23</td>\n",
       "      <td>0.0</td>\n",
       "      <td>29.5</td>\n",
       "    </tr>\n",
       "    <tr>\n",
       "      <th>4</th>\n",
       "      <td>1 Av (L)</td>\n",
       "      <td>M</td>\n",
       "      <td>2022-02-01</td>\n",
       "      <td>4</td>\n",
       "      <td>2</td>\n",
       "      <td>1</td>\n",
       "      <td>1</td>\n",
       "      <td>26</td>\n",
       "      <td>36</td>\n",
       "      <td>23</td>\n",
       "      <td>0.0</td>\n",
       "      <td>29.5</td>\n",
       "    </tr>\n",
       "  </tbody>\n",
       "</table>\n",
       "</div>"
      ],
      "text/plain": [
       "  station_complex borough        date  hour  month  weekdays  num_lines  \\\n",
       "0        1 Av (L)       M  2022-02-01     0      2         1          1   \n",
       "1        1 Av (L)       M  2022-02-01     1      2         1          1   \n",
       "2        1 Av (L)       M  2022-02-01     2      2         1          1   \n",
       "3        1 Av (L)       M  2022-02-01     3      2         1          1   \n",
       "4        1 Av (L)       M  2022-02-01     4      2         1          1   \n",
       "\n",
       "   ridership  TMAX  TMIN  PRCP  avg_T  \n",
       "0        124    36    23   0.0   29.5  \n",
       "1         28    36    23   0.0   29.5  \n",
       "2         38    36    23   0.0   29.5  \n",
       "3         14    36    23   0.0   29.5  \n",
       "4         26    36    23   0.0   29.5  "
      ]
     },
     "execution_count": 2,
     "metadata": {},
     "output_type": "execute_result"
    }
   ],
   "source": [
    "data=pd.read_csv(\"/Users/jchen056/Data/hourly_data_aggregated.csv\")\n",
    "data.drop(columns=['Unnamed: 0'],axis=0,inplace=True)\n",
    "data.head()"
   ]
  },
  {
   "cell_type": "code",
   "execution_count": 129,
   "id": "1cf70f1b",
   "metadata": {},
   "outputs": [
    {
     "data": {
      "text/plain": [
       "425"
      ]
     },
     "execution_count": 129,
     "metadata": {},
     "output_type": "execute_result"
    }
   ],
   "source": [
    "len(data['station_complex'].unique())"
   ]
  },
  {
   "cell_type": "code",
   "execution_count": 3,
   "id": "1f214926",
   "metadata": {},
   "outputs": [
    {
     "name": "stdout",
     "output_type": "stream",
     "text": [
      "max/min hourly ridership: 1 and 51130\n",
      "mean and std hourly ridership: 380.46825695706866 and 878.0933050491543\n"
     ]
    }
   ],
   "source": [
    "print(\"max/min hourly ridership: {} and {}\".format(min(data['ridership']),\n",
    "                                                   max(data['ridership']))\n",
    "     )\n",
    "print(\"mean and std hourly ridership: {} and {}\".format(\n",
    "    np.mean(data['ridership']),\n",
    "    np.std(data['ridership'])\n",
    "))"
   ]
  },
  {
   "cell_type": "code",
   "execution_count": 156,
   "id": "aa1ec40e",
   "metadata": {},
   "outputs": [
    {
     "data": {
      "text/plain": [
       "3851529.17199837"
      ]
     },
     "execution_count": 156,
     "metadata": {},
     "output_type": "execute_result"
    }
   ],
   "source": [
    "def hourly_ridership_dataframe():\n",
    "    hrly_data_mean_std=data.groupby('hour')['ridership'].agg(['mean','std']).reset_index()\n",
    "    avg_hrly_demand=pd.DataFrame(np.zeros((24,2)),columns=['hour','ridership'])\n",
    "    for i in avg_hrly_demand.index:\n",
    "        avg_hrly_demand.loc[i,'hour']=i\n",
    "        mu=hrly_data_mean_std.loc[i,'mean']\n",
    "        sigma=hrly_data_mean_std.loc[i,'std']/math.sqrt(425*365*24)\n",
    "        for time in range(100):#try many times, hopefully i can get something pos in the first 100 trials\n",
    "            hrly_ridership=np.random.normal(mu, sigma, 1)\n",
    "            if hrly_ridership>0:\n",
    "                avg_hrly_demand.loc[i,'ridership']=hrly_ridership\n",
    "    return avg_hrly_demand\n",
    "hourly_ridership_dataframe()['ridership'].sum()*425"
   ]
  },
  {
   "cell_type": "code",
   "execution_count": 157,
   "id": "528376f5",
   "metadata": {},
   "outputs": [
    {
     "data": {
      "text/html": [
       "<div>\n",
       "<style scoped>\n",
       "    .dataframe tbody tr th:only-of-type {\n",
       "        vertical-align: middle;\n",
       "    }\n",
       "\n",
       "    .dataframe tbody tr th {\n",
       "        vertical-align: top;\n",
       "    }\n",
       "\n",
       "    .dataframe thead th {\n",
       "        text-align: right;\n",
       "    }\n",
       "</style>\n",
       "<table border=\"1\" class=\"dataframe\">\n",
       "  <thead>\n",
       "    <tr style=\"text-align: right;\">\n",
       "      <th></th>\n",
       "      <th>hour</th>\n",
       "      <th>ridership_before</th>\n",
       "      <th>ridership_after</th>\n",
       "      <th>diff</th>\n",
       "    </tr>\n",
       "  </thead>\n",
       "  <tbody>\n",
       "    <tr>\n",
       "      <th>0</th>\n",
       "      <td>0</td>\n",
       "      <td>82.337171</td>\n",
       "      <td>82.337171</td>\n",
       "      <td>0.0</td>\n",
       "    </tr>\n",
       "    <tr>\n",
       "      <th>1</th>\n",
       "      <td>1</td>\n",
       "      <td>36.957320</td>\n",
       "      <td>36.957320</td>\n",
       "      <td>0.0</td>\n",
       "    </tr>\n",
       "    <tr>\n",
       "      <th>2</th>\n",
       "      <td>2</td>\n",
       "      <td>22.313511</td>\n",
       "      <td>22.313511</td>\n",
       "      <td>0.0</td>\n",
       "    </tr>\n",
       "    <tr>\n",
       "      <th>3</th>\n",
       "      <td>3</td>\n",
       "      <td>19.998631</td>\n",
       "      <td>19.998631</td>\n",
       "      <td>0.0</td>\n",
       "    </tr>\n",
       "    <tr>\n",
       "      <th>4</th>\n",
       "      <td>4</td>\n",
       "      <td>44.729277</td>\n",
       "      <td>44.729277</td>\n",
       "      <td>0.0</td>\n",
       "    </tr>\n",
       "  </tbody>\n",
       "</table>\n",
       "</div>"
      ],
      "text/plain": [
       "   hour  ridership_before  ridership_after  diff\n",
       "0     0         82.337171        82.337171   0.0\n",
       "1     1         36.957320        36.957320   0.0\n",
       "2     2         22.313511        22.313511   0.0\n",
       "3     3         19.998631        19.998631   0.0\n",
       "4     4         44.729277        44.729277   0.0"
      ]
     },
     "execution_count": 157,
     "metadata": {},
     "output_type": "execute_result"
    }
   ],
   "source": [
    "# data['station_complex'].unique()\n",
    "# data.groupby('hour')['ridership'].mean().plot(kind='bar')\n",
    "avg_hrly_demand=data.groupby('hour')['ridership'].mean().reset_index()\n",
    "early_peak_avg_demand=avg_hrly_demand[avg_hrly_demand['hour'].isin([7,8])]['ridership'].mean()\n",
    "aft_peak_avg_demand=avg_hrly_demand[avg_hrly_demand['hour'].isin([15,16,17,18])]['ridership'].mean()\n",
    "avg_hrly_demand.rename(columns={'ridership':'ridership_before'},inplace=True)\n",
    "\n",
    "demand_shift_factor=0.1\n",
    "diminishing_factor=0.98\n",
    "avg_hrly_demand['ridership_after']=avg_hrly_demand['ridership_before']\n",
    "#assume dynamic pricing would encourage people to travel off rush hours, 1-2 hours early or late\n",
    "ridership_chg_morning=0\n",
    "for hr in [7,8]:\n",
    "    ridership_chg_morning+=avg_hrly_demand.loc[hr,'ridership_before']*demand_shift_factor\n",
    "    avg_hrly_demand.loc[hr,'ridership_after']=avg_hrly_demand.loc[hr,'ridership_before']*(1-demand_shift_factor)\n",
    "for hr in [6,9]:\n",
    "    avg_hrly_demand.loc[hr,'ridership_after']=avg_hrly_demand.loc[hr,'ridership_before']+ridership_chg_morning/(2+2*diminishing_factor)\n",
    "for hr in [5,10]:\n",
    "    avg_hrly_demand.loc[hr,'ridership_after']=avg_hrly_demand.loc[hr,'ridership_before']+ridership_chg_morning/(2+2*diminishing_factor)*diminishing_factor\n",
    "\n",
    "\n",
    "ridership_chg_aft=0\n",
    "for hr in [15,16,17,18]:\n",
    "    ridership_chg_aft+=avg_hrly_demand.loc[hr,'ridership_before']*demand_shift_factor\n",
    "    avg_hrly_demand.loc[hr,'ridership_after']=avg_hrly_demand.loc[hr,'ridership_before']*(1-demand_shift_factor)\n",
    "for hr in [14,19]:\n",
    "    avg_hrly_demand.loc[hr,'ridership_after']=avg_hrly_demand.loc[hr,'ridership_before']+ridership_chg_aft/(2+2*diminishing_factor)\n",
    "for hr in [13,20]:\n",
    "    avg_hrly_demand.loc[hr,'ridership_after']=avg_hrly_demand.loc[hr,'ridership_before']+ridership_chg_aft/(2+2*diminishing_factor)*diminishing_factor\n",
    "avg_hrly_demand['diff']=avg_hrly_demand['ridership_after']-avg_hrly_demand['ridership_before']\n",
    "avg_hrly_demand.head()"
   ]
  },
  {
   "cell_type": "code",
   "execution_count": 158,
   "id": "0913b2d7",
   "metadata": {},
   "outputs": [
    {
     "name": "stdout",
     "output_type": "stream",
     "text": [
      "37776.69975048792\n",
      "37762.6652945935\n"
     ]
    }
   ],
   "source": [
    "base_fare=2.8\n",
    "max_cap=2000\n",
    "sig_steepness=0.0001#Controls how steep the sigmoid curve small for more gradual increase.\n",
    "avg_hrly_demand['fare_before']=avg_hrly_demand['ridership_before'].apply(lambda i: base_fare*(1+sigmoid((i-max_cap/2)*sig_steepness)))\n",
    "avg_hrly_demand['fare_after']=avg_hrly_demand['ridership_after'].apply(lambda i: base_fare*(1+sigmoid((i-max_cap/2)*sig_steepness)))\n",
    "print(sum(avg_hrly_demand['fare_before']*avg_hrly_demand['ridership_before']))\n",
    "print(sum(avg_hrly_demand['fare_after']*avg_hrly_demand['ridership_after']))"
   ]
  },
  {
   "cell_type": "code",
   "execution_count": 4,
   "id": "9616df71",
   "metadata": {},
   "outputs": [
    {
     "data": {
      "text/plain": [
       "(array([9.371e+03, 2.971e+03, 1.224e+03, 5.050e+02, 1.980e+02, 1.090e+02,\n",
       "        5.600e+01, 3.900e+01, 1.200e+01, 8.000e+00]),\n",
       " array([1.0000e+00, 4.5690e+02, 9.1280e+02, 1.3687e+03, 1.8246e+03,\n",
       "        2.2805e+03, 2.7364e+03, 3.1923e+03, 3.6482e+03, 4.1041e+03,\n",
       "        4.5600e+03]),\n",
       " <BarContainer object of 10 artists>)"
      ]
     },
     "execution_count": 4,
     "metadata": {},
     "output_type": "execute_result"
    },
    {
     "data": {
      "image/png": "[encoded data removed]",
      "text/plain": [
       "<Figure size 432x288 with 1 Axes>"
      ]
     },
     "metadata": {
      "needs_background": "light"
     },
     "output_type": "display_data"
    }
   ],
   "source": [
    "#distribution for ridership, all stations does not follow normal distribution\n",
    "# plt.hist(data.groupby(['month','hour'])['ridership'].sum().values)\n",
    "# plt.hist(data['ridership'],bins=100)\n",
    "\n",
    "stationA=data[data['station_complex']=='116 St-Columbia University (1)']\n",
    "plt.hist(stationA['ridership'])"
   ]
  },
  {
   "cell_type": "code",
   "execution_count": 5,
   "id": "604455db",
   "metadata": {},
   "outputs": [
    {
     "data": {
      "text/plain": [
       "Text(0.5, 1.0, 'Adjusting Predicted Ridership Using Sigmoid Fumction')"
      ]
     },
     "execution_count": 5,
     "metadata": {},
     "output_type": "execute_result"
    },
    {
     "data": {
      "image/png": "[encoded data removed]",
      "text/plain": [
       "<Figure size 432x288 with 1 Axes>"
      ]
     },
     "metadata": {
      "needs_background": "light"
     },
     "output_type": "display_data"
    }
   ],
   "source": [
    "def sigmoid(x):\n",
    "    return 1 / (1 + math.exp(-x))\n",
    "\n",
    "hourly_ridership=np.linspace(min(data['ridership']),\n",
    "                            max(data['ridership']),\n",
    "                            num=10000)\n",
    "\n",
    "\n",
    "plt.plot(hourly_ridership,\n",
    "        [sigmoid((i-1000)*0.0001) for i in hourly_ridership])\n",
    "plt.xlabel(\"Predictly Hourly Demand\")\n",
    "plt.ylabel(\"Hourly Demand Factor\")\n",
    "plt.title(\"Adjusting Predicted Ridership Using Sigmoid Fumction\")"
   ]
  },
  {
   "cell_type": "code",
   "execution_count": 102,
   "id": "c6392903",
   "metadata": {},
   "outputs": [
    {
     "data": {
      "image/png": "[encoded data removed]",
      "text/plain": [
       "<Figure size 1440x936 with 1 Axes>"
      ]
     },
     "metadata": {
      "needs_background": "light"
     },
     "output_type": "display_data"
    }
   ],
   "source": [
    "base_fare=2.9\n",
    "fares=np.array([base_fare*(1+sigmoid((i-1000)*0.0001)) for i in data['ridership']])\n",
    "count, bins, ignored =plt.hist(fares,bins=100,\n",
    "         density=True,\n",
    "         color='green',\n",
    "         alpha=0.7,\n",
    "        label=\"Histogram of Fares\")"
   ]
  },
  {
   "cell_type": "code",
   "execution_count": 103,
   "id": "63cd63fc",
   "metadata": {},
   "outputs": [
    {
     "data": {
      "text/plain": [
       "<BarContainer object of 100 artists>"
      ]
     },
     "execution_count": 103,
     "metadata": {},
     "output_type": "execute_result"
    },
    {
     "data": {
      "image/png": "[encoded data removed]",
      "text/plain": [
       "<Figure size 1440x936 with 1 Axes>"
      ]
     },
     "metadata": {
      "needs_background": "light"
     },
     "output_type": "display_data"
    }
   ],
   "source": [
    "bin_width=bins[1]-bins[0]\n",
    "plt.bar(bins[:-1],\n",
    "        count/sum(count),\n",
    "#         count/(len(fares)* bin_width),\n",
    "        width=bin_width,\n",
    "        alpha=0.7, color='blue', edgecolor='black',\n",
    "        align='edge')"
   ]
  },
  {
   "cell_type": "code",
   "execution_count": 80,
   "id": "f103251d",
   "metadata": {},
   "outputs": [
    {
     "data": {
      "text/plain": [
       "Text(0.5, 0, 'Hour')"
      ]
     },
     "execution_count": 80,
     "metadata": {},
     "output_type": "execute_result"
    },
    {
     "data": {
      "image/png": "[encoded data removed]",
      "text/plain": [
       "<Figure size 1440x936 with 4 Axes>"
      ]
     },
     "metadata": {
      "needs_background": "light"
     },
     "output_type": "display_data"
    }
   ],
   "source": [
    "# sns.distplot(fares, kde=True)\n",
    "fig, ax=plt.subplots(2,2)\n",
    "plt.rcParams[\"figure.figsize\"] = (20,13)\n",
    "# plt.rcParams[\"figure.autolayout\"] = True\n",
    "\n",
    "ax[0,0].plot(hourly_ridership,\n",
    "        [sigmoid((i-1000)*0.0001) for i in hourly_ridership])\n",
    "ax[0,0].set_xlabel(\"Predictly Hourly Ridership\")\n",
    "ax[0,0].set_ylabel(\"Predicted Hourly Ridership Factor\")\n",
    "# ax[0,0].set_title(\"Adjust Predicted Ridership Using Sigmoid Fumction\")\n",
    "ax[0,1].bar(bins[:-1],\n",
    "        count/sum(count),\n",
    "        width=bin_width,\n",
    "        alpha=0.7, color='blue', edgecolor='black',\n",
    "        align='edge')\n",
    "ax[0,1].set_xlabel('Fare')\n",
    "ax[0,1].set_ylabel('Density')\n",
    "\n",
    "ax[1,0].bar(avg_hrly_demand.hour,avg_hrly_demand.ridership_before)\n",
    "ax[1,0].set_xlabel('Hour')\n",
    "ax[1,0].set_ylim(bottom=0,top=900)\n",
    "ax[1,0].set_ylabel('Ridership Before Dynamic Pricing')\n",
    "ax[1,1].bar(avg_hrly_demand.hour,avg_hrly_demand.ridership_after)\n",
    "ax[1,1].set_ylabel('Ridership After Dynamic Pricing')\n",
    "ax[1,1].set_ylim(bottom=0,top=900)\n",
    "ax[1,1].set_xlabel('Hour')\n",
    "\n",
    "# fig.suptitle(\"Dynamic Pricing to Encourage People to Travel off Peak Hours\")"
   ]
  },
  {
   "cell_type": "code",
   "execution_count": 163,
   "id": "b563658e",
   "metadata": {},
   "outputs": [],
   "source": [
    "# fig.savefig(\"visualizations/simulation/dp.png\")\n",
    "def single_simulation(demand_shift_factor=0.1,diminishing_factor=0.98,base_fare=2,max_cap=2000,sig_steepness=0.0001,\n",
    "                      event_factor=1,traffic_factor=1,cluster_factor=1):\n",
    "    avg_hrly_demand=hourly_ridership_dataframe()\n",
    "    \n",
    "    early_peak_avg_demand=avg_hrly_demand[avg_hrly_demand['hour'].isin([7,8])]['ridership'].mean()\n",
    "    aft_peak_avg_demand=avg_hrly_demand[avg_hrly_demand['hour'].isin([15,16,17,18])]['ridership'].mean()\n",
    "    avg_hrly_demand.rename(columns={'ridership':'ridership_before'},inplace=True)\n",
    "\n",
    "    avg_hrly_demand['ridership_after']=avg_hrly_demand['ridership_before']\n",
    "    #assume dynamic pricing would encourage people to travel off rush hours, 1-2 hours early or late\n",
    "    ridership_chg_morning=0\n",
    "    for hr in [7,8]:\n",
    "        ridership_chg_morning+=avg_hrly_demand.loc[hr,'ridership_before']*demand_shift_factor\n",
    "        avg_hrly_demand.loc[hr,'ridership_after']=avg_hrly_demand.loc[hr,'ridership_before']*(1-demand_shift_factor)\n",
    "    for hr in [6,9]:\n",
    "        avg_hrly_demand.loc[hr,'ridership_after']=avg_hrly_demand.loc[hr,'ridership_before']+ridership_chg_morning/(2+2*diminishing_factor)\n",
    "    for hr in [5,10]:\n",
    "        avg_hrly_demand.loc[hr,'ridership_after']=avg_hrly_demand.loc[hr,'ridership_before']+ridership_chg_morning/(2+2*diminishing_factor)*diminishing_factor\n",
    "\n",
    "\n",
    "    ridership_chg_aft=0\n",
    "    for hr in [15,16,17,18]:\n",
    "        ridership_chg_aft+=avg_hrly_demand.loc[hr,'ridership_before']*demand_shift_factor\n",
    "        avg_hrly_demand.loc[hr,'ridership_after']=avg_hrly_demand.loc[hr,'ridership_before']*(1-demand_shift_factor)\n",
    "    for hr in [14,19]:\n",
    "        avg_hrly_demand.loc[hr,'ridership_after']=avg_hrly_demand.loc[hr,'ridership_before']+ridership_chg_aft/(2+2*diminishing_factor)\n",
    "    for hr in [13,20]:\n",
    "        avg_hrly_demand.loc[hr,'ridership_after']=avg_hrly_demand.loc[hr,'ridership_before']+ridership_chg_aft/(2+2*diminishing_factor)*diminishing_factor\n",
    "    \n",
    "    avg_hrly_demand['fare_before']=avg_hrly_demand['ridership_before'].apply(lambda i: base_fare*(1+sigmoid((i-max_cap/2)*sig_steepness*event_factor * traffic_factor * cluster_factor)))\n",
    "    avg_hrly_demand['fare_after']=avg_hrly_demand['ridership_after'].apply(lambda i: base_fare*(1+sigmoid((i-max_cap/2)*sig_steepness*event_factor * traffic_factor * cluster_factor)))\n",
    "    return sum(avg_hrly_demand['fare_before']*avg_hrly_demand['ridership_before'])*425*365,sum(avg_hrly_demand['fare_after']*avg_hrly_demand['ridership_after'])*425*365"
   ]
  },
  {
   "cell_type": "code",
   "execution_count": 164,
   "id": "44d6b603",
   "metadata": {},
   "outputs": [
    {
     "data": {
      "text/plain": [
       "(4185778058.467283, 4184222935.7289305, 1054930.136654641, 1053460.5472478434)"
      ]
     },
     "execution_count": 164,
     "metadata": {},
     "output_type": "execute_result"
    }
   ],
   "source": [
    "def many_simulations(n=10,\n",
    "                     demand_shift_factor=0.1,diminishing_factor=0.98,base_fare=2,max_cap=2000,sig_steepness=0.0001,\n",
    "                      event_factor=1,traffic_factor=1,cluster_factor=1):\n",
    "    revs_before=[]\n",
    "    revs_after=[]\n",
    "    for i in range(n):\n",
    "        rev_before, rev_after=single_simulation(demand_shift_factor=0.1,diminishing_factor=0.98,base_fare=2,max_cap=2000,sig_steepness=0.0001,\n",
    "                      event_factor=1,traffic_factor=1,cluster_factor=1)\n",
    "        revs_before.append(rev_before)\n",
    "        revs_after.append(rev_after)\n",
    "    return np.mean(revs_before),np.mean(revs_after),np.std(revs_before),np.std(revs_after)\n",
    "\n",
    "many_simulations()"
   ]
  },
  {
   "cell_type": "code",
   "execution_count": 161,
   "id": "9e62db2d",
   "metadata": {},
   "outputs": [
    {
     "data": {
      "text/plain": [
       "3040276395"
      ]
     },
     "execution_count": 161,
     "metadata": {},
     "output_type": "execute_result"
    }
   ],
   "source": [
    "1013425465*3#annual total ridership"
   ]
  },
  {
   "cell_type": "code",
   "execution_count": 168,
   "id": "4adae03a",
   "metadata": {},
   "outputs": [],
   "source": [
    "# interact(many_simulations,\n",
    "#         n=[10,50,100],\n",
    "#          demand_shift_factor=FloatSlider(min=0.05,max=0.2,value=0.1,continuous_update=False)\n",
    "#         )"
   ]
  },
  {
   "cell_type": "code",
   "execution_count": null,
   "id": "3e8273a4",
   "metadata": {},
   "outputs": [],
   "source": []
  }
 ],
 "metadata": {
  "kernelspec": {
   "display_name": "Python 3 (ipykernel)",
   "language": "python",
   "name": "python3"
  },
  "language_info": {
   "codemirror_mode": {
    "name": "ipython",
    "version": 3
   },
   "file_extension": ".py",
   "mimetype": "text/x-python",
   "name": "python",
   "nbconvert_exporter": "python",
   "pygments_lexer": "ipython3",
   "version": "3.9.12"
  }
 },
 "nbformat": 4,
 "nbformat_minor": 5
}
